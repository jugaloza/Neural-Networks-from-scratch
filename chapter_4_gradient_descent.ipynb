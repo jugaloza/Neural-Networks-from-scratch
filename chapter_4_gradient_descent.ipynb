{
 "cells": [
  {
   "cell_type": "markdown",
   "metadata": {},
   "source": [
    "<h2> Measuring Error </h2>"
   ]
  },
  {
   "cell_type": "code",
   "execution_count": 1,
   "metadata": {},
   "outputs": [
    {
     "name": "stdout",
     "output_type": "stream",
     "text": [
      "0.30250000000000005\n"
     ]
    }
   ],
   "source": [
    "knob_weight = 0.5\n",
    "input = 0.5\n",
    "goal_pred = 0.8\n",
    "\n",
    "pred = input * knob_weight\n",
    "\n",
    "error = (pred - goal_pred) ** 2\n",
    "\n",
    "print(error)"
   ]
  },
  {
   "cell_type": "markdown",
   "metadata": {},
   "source": [
    "<h2> Measure the error and find the direction and amount </h2>"
   ]
  },
  {
   "cell_type": "code",
   "execution_count": 3,
   "metadata": {},
   "outputs": [
    {
     "name": "stdout",
     "output_type": "stream",
     "text": [
      "Error : 0.303, Prediction : 0.250\n",
      "Error : 0.170, Prediction : 0.388\n",
      "Error : 0.096, Prediction : 0.491\n",
      "Error : 0.054, Prediction : 0.568\n",
      "Error : 0.030, Prediction : 0.626\n",
      "Error : 0.017, Prediction : 0.669\n",
      "Error : 0.010, Prediction : 0.702\n",
      "Error : 0.005, Prediction : 0.727\n",
      "Error : 0.003, Prediction : 0.745\n",
      "Error : 0.002, Prediction : 0.759\n",
      "Error : 0.001, Prediction : 0.769\n",
      "Error : 0.001, Prediction : 0.777\n",
      "Error : 0.000, Prediction : 0.783\n",
      "Error : 0.000, Prediction : 0.787\n",
      "Error : 0.000, Prediction : 0.790\n",
      "Error : 0.000, Prediction : 0.793\n",
      "Error : 0.000, Prediction : 0.794\n",
      "Error : 0.000, Prediction : 0.796\n",
      "Error : 0.000, Prediction : 0.797\n",
      "Error : 0.000, Prediction : 0.798\n"
     ]
    }
   ],
   "source": [
    "weight = 0.5\n",
    "goal_pred = 0.8\n",
    "input = 0.5\n",
    "\n",
    "for iteration in range(20):\n",
    "    pred = input * weight\n",
    "    error = (pred - goal_pred) ** 2\n",
    "    direction_and_amount = (pred - goal_pred) * input\n",
    "    weight = weight - direction_and_amount\n",
    "    \n",
    "    print(\"Error : {:.3f}, Prediction : {:.3f}\".format(error,pred))"
   ]
  },
  {
   "cell_type": "markdown",
   "metadata": {},
   "source": [
    "<h2> One iteration of Gradient Descent </h2>"
   ]
  },
  {
   "cell_type": "code",
   "execution_count": 4,
   "metadata": {},
   "outputs": [],
   "source": [
    "weight = 0.1\n",
    "alpha = 0.01\n",
    "\n",
    "def neural_network(input,weight):\n",
    "\n",
    "    pred = input * weight\n",
    "    return pred\n"
   ]
  },
  {
   "cell_type": "code",
   "execution_count": 5,
   "metadata": {},
   "outputs": [],
   "source": [
    "number_of_toes = [8.5]\n",
    "win_or_lose_binary = [1]\n",
    "\n",
    "input = number_of_toes[0]\n",
    "goal_pred = win_or_lose_binary[0]\n",
    "\n",
    "pred = neural_network(input,weight)\n",
    "\n",
    "error = (pred - goal_pred) ** 2 # RAW ERROR\n"
   ]
  },
  {
   "cell_type": "code",
   "execution_count": 6,
   "metadata": {},
   "outputs": [],
   "source": [
    "delta = pred - goal_pred\n",
    "\n",
    "weight_delta = delta * input\n",
    "\n",
    "weight -= weight_delta * alpha\n",
    "\n"
   ]
  },
  {
   "cell_type": "code",
   "execution_count": 7,
   "metadata": {},
   "outputs": [
    {
     "data": {
      "text/plain": [
       "0.11275"
      ]
     },
     "execution_count": 7,
     "metadata": {},
     "output_type": "execute_result"
    }
   ],
   "source": [
    "weight"
   ]
  },
  {
   "cell_type": "markdown",
   "metadata": {},
   "source": [
    "<h2> Modifying weight to reducing error </h2>"
   ]
  },
  {
   "cell_type": "code",
   "execution_count": 8,
   "metadata": {},
   "outputs": [
    {
     "name": "stdout",
     "output_type": "stream",
     "text": [
      " Error : 0.6400000000000001, Prediction : 0.0\n",
      " Error : 0.3600000000000001, Prediction : 0.2\n",
      " Error : 0.2025, Prediction : 0.35000000000000003\n",
      " Error : 0.11390625000000001, Prediction : 0.4625\n"
     ]
    }
   ],
   "source": [
    "weight,goal_pred,input = (0.0,0.8,0.5)\n",
    "\n",
    "for iteration in range(4):\n",
    "\n",
    "    pred = input * weight\n",
    "\n",
    "    error = (pred - goal_pred) ** 2\n",
    "\n",
    "    delta = pred - goal_pred\n",
    "\n",
    "    weight_delta = input * delta\n",
    "\n",
    "    weight -= weight_delta\n",
    "\n",
    "    print(\" Error : {}, Prediction : {}\".format(error,pred))\n"
   ]
  },
  {
   "cell_type": "markdown",
   "metadata": {},
   "source": [
    "<h3> Several Steps of Learning </h3>"
   ]
  },
  {
   "cell_type": "code",
   "execution_count": 12,
   "metadata": {},
   "outputs": [
    {
     "name": "stdout",
     "output_type": "stream",
     "text": [
      "------\n",
      " Weight: 0.0000\n",
      "Error : 0.6400, Prediction : 0.0000\n",
      "Delta : -0.8000, Weight Delta : -0.8800\n",
      "------\n",
      " Weight: 0.8800\n",
      "Error : 0.0282, Prediction : 0.9680\n",
      "Delta : 0.1680, Weight Delta : 0.1848\n",
      "------\n",
      " Weight: 0.6952\n",
      "Error : 0.0012, Prediction : 0.7647\n",
      "Delta : -0.0353, Weight Delta : -0.0388\n",
      "------\n",
      " Weight: 0.7340\n",
      "Error : 0.0001, Prediction : 0.8074\n",
      "Delta : 0.0074, Weight Delta : 0.0081\n"
     ]
    }
   ],
   "source": [
    "weights,goal_pred,input = (0.0,0.8,1.1)\n",
    "\n",
    "for iteration in range(4):\n",
    "    print('------\\n Weight: {:.4f}'.format(weights))\n",
    "    pred = input * weights\n",
    "\n",
    "    error = (pred - goal_pred) ** 2\n",
    "\n",
    "    delta = pred - goal_pred\n",
    "\n",
    "    weight_delta = input * delta\n",
    "\n",
    "    weights -= weight_delta\n",
    "\n",
    "    print(\"Error : {:.4f}, Prediction : {:.4f}\".format(error,pred))\n",
    "    print(\"Delta : {:.4f}, Weight Delta : {:.4f}\".format(delta,weight_delta))"
   ]
  },
  {
   "cell_type": "markdown",
   "metadata": {},
   "source": [
    "<h2> Breaking gradient descent </h2>"
   ]
  },
  {
   "cell_type": "code",
   "execution_count": 5,
   "metadata": {},
   "outputs": [
    {
     "name": "stdout",
     "output_type": "stream",
     "text": [
      "Error : 0.0400, pred : 1.0000, delta : 0.4000\n",
      "Error : 0.3600, pred : 0.2000, delta : -1.2000\n",
      "Error : 3.2400, pred : 2.6000, delta : 3.6000\n",
      "Error : 29.1600, pred : -4.6000, delta : -10.8000\n",
      "Error : 262.4400, pred : 17.0000, delta : 32.4000\n",
      "Error : 2361.9600, pred : -47.8000, delta : -97.2000\n",
      "Error : 21257.6400, pred : 146.6000, delta : 291.6000\n",
      "Error : 191318.7600, pred : -436.6000, delta : -874.8000\n",
      "Error : 1721868.8400, pred : 1313.0000, delta : 2624.4000\n",
      "Error : 15496819.5600, pred : -3935.8000, delta : -7873.2000\n",
      "Error : 139471376.0400, pred : 11810.6000, delta : 23619.6000\n",
      "Error : 1255242384.3600, pred : -35428.6000, delta : -70858.8000\n",
      "Error : 11297181459.2400, pred : 106289.0000, delta : 212576.4000\n",
      "Error : 101674633133.1599, pred : -318863.8000, delta : -637729.2000\n",
      "Error : 915071698198.4395, pred : 956594.6000, delta : 1913187.6000\n",
      "Error : 8235645283785.9541, pred : -2869780.6000, delta : -5739562.8000\n",
      "Error : 74120807554073.5625, pred : 8609345.0000, delta : 17218688.4000\n",
      "Error : 667087267986662.1250, pred : -25828031.8000, delta : -51656065.2000\n",
      "Error : 6003785411879960.0000, pred : 77484098.6000, delta : 154968195.6000\n",
      "Error : 54034068706919648.0000, pred : -232452292.6000, delta : -464904586.8000\n"
     ]
    }
   ],
   "source": [
    "weight = 0.5\n",
    "goal_pred = 0.8\n",
    "input = 2\n",
    "\n",
    "for _ in range(20):\n",
    "\n",
    "    pred = input * weight\n",
    "\n",
    "    error = (pred - goal_pred) ** 2\n",
    "\n",
    "    delta = (pred - goal_pred) * input\n",
    "\n",
    "    weight = weight - delta\n",
    "\n",
    "    print(f'Error : {error:.4f}, pred : {pred:.4f}, delta : {delta:.4f}')"
   ]
  },
  {
   "cell_type": "markdown",
   "metadata": {},
   "source": [
    "<h2> Alpha in code </h2>"
   ]
  },
  {
   "cell_type": "code",
   "execution_count": null,
   "metadata": {},
   "outputs": [],
   "source": [
    "weight = 0.5\n",
    "goal_pred = 0.8\n",
    "input = 0.5\n",
    "alpha = 0.1\n",
    "\n",
    "for _ in range(20):\n",
    "\n",
    "    pred = input * weight\n",
    "\n",
    "    error = (pred - goal_pred) ** 2\n",
    "\n",
    "    delta = (pred - goal_pred) * input \n",
    "\n",
    "    weight = weight - (alpha * delta)\n",
    "    "
   ]
  }
 ],
 "metadata": {
  "interpreter": {
   "hash": "3d76cc264429eb451b32309f22178199b59fe04fa61b6b5db32c604327513a83"
  },
  "kernelspec": {
   "display_name": "Python 3.9.12 ('pytorch')",
   "language": "python",
   "name": "python3"
  },
  "language_info": {
   "codemirror_mode": {
    "name": "ipython",
    "version": 3
   },
   "file_extension": ".py",
   "mimetype": "text/x-python",
   "name": "python",
   "nbconvert_exporter": "python",
   "pygments_lexer": "ipython3",
   "version": "3.9.12"
  },
  "orig_nbformat": 4
 },
 "nbformat": 4,
 "nbformat_minor": 2
}
