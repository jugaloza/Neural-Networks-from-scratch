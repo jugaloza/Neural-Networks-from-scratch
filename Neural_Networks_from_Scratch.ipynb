{
  "nbformat": 4,
  "nbformat_minor": 0,
  "metadata": {
    "colab": {
      "name": "Neural_Networks_from_Scratch_New.ipynb",
      "provenance": [],
      "collapsed_sections": []
    },
    "kernelspec": {
      "name": "python3",
      "display_name": "Python 3"
    }
  },
  "cells": [
    {
      "cell_type": "code",
      "metadata": {
        "id": "CN-mXusnfS8R"
      },
      "source": [
        "import numpy as np\r\n",
        "\r\n"
      ],
      "execution_count": null,
      "outputs": []
    },
    {
      "cell_type": "markdown",
      "metadata": {
        "id": "_0ZjDoqrhpyJ"
      },
      "source": [
        "<h1> Single Neuron with 4 inputs"
      ]
    },
    {
      "cell_type": "code",
      "metadata": {
        "colab": {
          "base_uri": "https://localhost:8080/"
        },
        "id": "PcurrlSEgNTw",
        "outputId": "77033439-f05e-4936-cd1a-f8aad2b01529"
      },
      "source": [
        "inputs = [1.0, 2.0, 3.0, 2.5]\r\n",
        "weights = [0.2, 0.8, -0.5, 1.0]\r\n",
        "b = 2 \r\n",
        "outputs = 0\r\n",
        "for i in range(len(inputs)):\r\n",
        "  outputs = outputs + (inputs[i]*weights[i])\r\n",
        "outputs = outputs + b\r\n",
        "outputs"
      ],
      "execution_count": null,
      "outputs": [
        {
          "output_type": "execute_result",
          "data": {
            "text/plain": [
              "4.8"
            ]
          },
          "metadata": {
            "tags": []
          },
          "execution_count": 3
        }
      ]
    },
    {
      "cell_type": "markdown",
      "metadata": {
        "id": "z5cf3V8Lh7_r"
      },
      "source": [
        "<h2> 3 Neurons with 4 inputs </h2>"
      ]
    },
    {
      "cell_type": "code",
      "metadata": {
        "colab": {
          "base_uri": "https://localhost:8080/"
        },
        "id": "XJHAK-Ixh60j",
        "outputId": "5d0be173-f8bd-4ffe-9643-e501c926af74"
      },
      "source": [
        "inputs = [1, 2, 3, 2.5]\r\n",
        "weights1 = [0.2, 0.8, -0.5, 1]\r\n",
        "weights2 = [0.5, -0.91, 0.26, -0.5]\r\n",
        "weights3 = [-0.26, -0.27, 0.17, 0.87]\r\n",
        "bias1 = 2\r\n",
        "bias2 = 3\r\n",
        "bias3 = 0.5\r\n",
        "outputs = []\r\n",
        "neurons = 3\r\n",
        "dictionary = {'weights1' : weights1,'weights2' : weights2, 'weights3' : weights3, 'bias1' : 2, 'bias2' : 3, 'bias3' : 0.5}\r\n",
        "for i in range(neurons):\r\n",
        "  weights = dictionary.get('weights'+str(i+1))\r\n",
        "  bias = dictionary.get('bias' + str(i+1))\r\n",
        "  sum = 0\r\n",
        "  for value in range(len(inputs)):\r\n",
        "    sum = sum + (inputs[value]*weights[value])\r\n",
        "      \r\n",
        "  outputs.append(sum+bias)\r\n",
        "print(outputs)"
      ],
      "execution_count": null,
      "outputs": [
        {
          "output_type": "stream",
          "text": [
            "[4.8, 1.21, 2.385]\n"
          ],
          "name": "stdout"
        }
      ]
    },
    {
      "cell_type": "code",
      "metadata": {
        "colab": {
          "base_uri": "https://localhost:8080/"
        },
        "id": "CVjzPwNuk2OB",
        "outputId": "70ede851-520e-40fc-868c-0d6f6598ae19"
      },
      "source": [
        "weights = [[0.2, 0.8, -0.5, 1],\r\n",
        " [0.5, -0.91, 0.26, -0.5],\r\n",
        " [-0.26, -0.27, 0.17, 0.87]]\r\n",
        "inputs = [1, 2, 3, 2.5]\r\n",
        "biases = [2, 3, 0.5]\r\n",
        "output = []\r\n",
        "for neuron_weights,neuron_biases in zip(weights,biases):\r\n",
        "  sum = 0\r\n",
        "  for input,weight in zip(inputs,neuron_weights):\r\n",
        "    sum += input*weight\r\n",
        "  sum += neuron_biases\r\n",
        "  output.append(sum)\r\n",
        "output"
      ],
      "execution_count": null,
      "outputs": [
        {
          "output_type": "execute_result",
          "data": {
            "text/plain": [
              "[4.8, 1.21, 2.385]"
            ]
          },
          "metadata": {
            "tags": []
          },
          "execution_count": 27
        }
      ]
    },
    {
      "cell_type": "markdown",
      "metadata": {
        "id": "CmxkvOycsCyN"
      },
      "source": [
        "<h2> Single neuron using Numpy </h2>"
      ]
    },
    {
      "cell_type": "code",
      "metadata": {
        "colab": {
          "base_uri": "https://localhost:8080/"
        },
        "id": "p_zbB095nCWz",
        "outputId": "deba1d23-6ab0-4710-d09b-1c9dd282dc79"
      },
      "source": [
        "import numpy as np\r\n",
        "inputs = [1.0, 2.0, 3.0, 2.5]\r\n",
        "weights = [0.2, 0.8, -0.5, 1.0]\r\n",
        "bias = 2.0\r\n",
        "output = np.dot(inputs,weights) + bias\r\n",
        "output"
      ],
      "execution_count": null,
      "outputs": [
        {
          "output_type": "execute_result",
          "data": {
            "text/plain": [
              "4.8"
            ]
          },
          "metadata": {
            "tags": []
          },
          "execution_count": 29
        }
      ]
    },
    {
      "cell_type": "markdown",
      "metadata": {
        "id": "hUKsVoJotxtM"
      },
      "source": [
        "<h2> A Layer of Neurons with NumPy </h2>"
      ]
    },
    {
      "cell_type": "code",
      "metadata": {
        "colab": {
          "base_uri": "https://localhost:8080/"
        },
        "id": "7PC_zV2Sswm1",
        "outputId": "0eef6cb4-47b6-4026-b8e2-a195d185626d"
      },
      "source": [
        "inputs = [1.0, 2.0, 3.0, 2.5]\r\n",
        "weights = [[0.2, 0.8, -0.5, 1],\r\n",
        " [0.5, -0.91, 0.26, -0.5],\r\n",
        " [-0.26, -0.27, 0.17, 0.87]]\r\n",
        "biases = [2.0, 3.0, 0.5]\r\n",
        "\r\n",
        "output = np.dot(weights,inputs) + biases\r\n",
        "output"
      ],
      "execution_count": null,
      "outputs": [
        {
          "output_type": "execute_result",
          "data": {
            "text/plain": [
              "array([4.8  , 1.21 , 2.385])"
            ]
          },
          "metadata": {
            "tags": []
          },
          "execution_count": 36
        }
      ]
    },
    {
      "cell_type": "markdown",
      "metadata": {
        "id": "2bMtpbTPt0vx"
      },
      "source": [
        "<h2> A layer of Neurons with batches of input </h2>"
      ]
    },
    {
      "cell_type": "code",
      "metadata": {
        "colab": {
          "base_uri": "https://localhost:8080/"
        },
        "id": "h5l6qhvUfG4Y",
        "outputId": "3813f2de-9796-4381-bd00-6e4602fe2a8b"
      },
      "source": [
        "inputs = [[1.0, 2.0, 3.0, 2.5],\r\n",
        " [2.0, 5.0, -1.0, 2.0],\r\n",
        " [-1.5, 2.7, 3.3, -0.8]]\r\n",
        "weights = [[0.2, 0.8, -0.5, 1.0],\r\n",
        " [0.5, -0.91, 0.26, -0.5],\r\n",
        " [-0.26, -0.27, 0.17, 0.87]]\r\n",
        "biases = [2.0, 3.0, 0.5]\r\n",
        "\r\n",
        "outputs = np.dot(inputs,np.array(weights).T) + biases\r\n",
        "outputs"
      ],
      "execution_count": null,
      "outputs": [
        {
          "output_type": "execute_result",
          "data": {
            "text/plain": [
              "array([[ 4.8  ,  1.21 ,  2.385],\n",
              "       [ 8.9  , -1.81 ,  0.2  ],\n",
              "       [ 1.41 ,  1.051,  0.026]])"
            ]
          },
          "metadata": {
            "tags": []
          },
          "execution_count": 3
        }
      ]
    },
    {
      "cell_type": "markdown",
      "metadata": {
        "id": "blH-Lr4yhN59"
      },
      "source": [
        "<h2> Addition of layer </h2>"
      ]
    },
    {
      "cell_type": "code",
      "metadata": {
        "colab": {
          "base_uri": "https://localhost:8080/"
        },
        "id": "Jt6F1bhVhRT5",
        "outputId": "89318034-023b-47c8-f466-bd25a42a9115"
      },
      "source": [
        "inputs = [[1.0, 2.0, 3.0, 2.5],\r\n",
        " [2.0, 5.0, -1.0, 2.0],\r\n",
        " [-1.5, 2.7, 3.3, -0.8]]\r\n",
        "weights1 = [[0.2, 0.8, -0.5, 1.0],\r\n",
        " [0.5, -0.91, 0.26, -0.5],\r\n",
        " [-0.26, -0.27, 0.17, 0.87]]\r\n",
        "biases1 = [2.0, 3.0, 0.5]\r\n",
        "\r\n",
        "weights2 = [[0.1, -0.14, 0.5],\r\n",
        " [-0.5, 0.12, -0.33],\r\n",
        " [-0.44, 0.73, -0.13]]\r\n",
        "biases2 = [-1, 2, -0.5]\r\n",
        "\r\n",
        "layer1_output = np.dot(inputs,np.array(weights1).T) + biases1\r\n",
        "layer2_output = np.dot(layer1_output,np.array(weights2).T) + biases2\r\n",
        "layer2_output"
      ],
      "execution_count": null,
      "outputs": [
        {
          "output_type": "execute_result",
          "data": {
            "text/plain": [
              "array([[ 0.5031 , -1.04185, -2.03875],\n",
              "       [ 0.2434 , -2.7332 , -5.7633 ],\n",
              "       [-0.99314,  1.41254, -0.35655]])"
            ]
          },
          "metadata": {
            "tags": []
          },
          "execution_count": 5
        }
      ]
    },
    {
      "cell_type": "code",
      "metadata": {
        "colab": {
          "base_uri": "https://localhost:8080/"
        },
        "id": "6wcFScj2ifgs",
        "outputId": "9ab603da-054c-4ac5-bbaa-9b0b9044ebd6"
      },
      "source": [
        "!pip install nnfs"
      ],
      "execution_count": 5,
      "outputs": [
        {
          "output_type": "stream",
          "text": [
            "Collecting nnfs\n",
            "  Downloading https://files.pythonhosted.org/packages/06/8c/3003a41d5229e65da792331b060dcad8100a0a5b9760f8c2074cde864148/nnfs-0.5.1-py3-none-any.whl\n",
            "Requirement already satisfied: numpy in /usr/local/lib/python3.7/dist-packages (from nnfs) (1.19.5)\n",
            "Installing collected packages: nnfs\n",
            "Successfully installed nnfs-0.5.1\n"
          ],
          "name": "stdout"
        }
      ]
    },
    {
      "cell_type": "markdown",
      "metadata": {
        "id": "4GZH9UWRuRiH"
      },
      "source": [
        "<h2> Dense layer </h2>"
      ]
    },
    {
      "cell_type": "code",
      "metadata": {
        "id": "rayiBHOXin0_"
      },
      "source": [
        "from nnfs.datasets import spiral_data\r\n",
        "import nnfs\r\n",
        "import matplotlib.pyplot as plt\r\n",
        "\r\n",
        "nnfs.init()"
      ],
      "execution_count": 6,
      "outputs": []
    },
    {
      "cell_type": "code",
      "metadata": {
        "colab": {
          "base_uri": "https://localhost:8080/",
          "height": 266
        },
        "id": "YWdhEFGProNd",
        "outputId": "4fc4c810-783f-45f9-d0fb-567ed9223630"
      },
      "source": [
        "X,y = spiral_data(100,3)\r\n",
        "plt.scatter(X[:,0],X[:,1],c=y,cmap='brg')\r\n",
        "plt.show()"
      ],
      "execution_count": null,
      "outputs": [
        {
          "output_type": "display_data",
          "data": {
            "image/png": "[encoded data removed]",
            "text/plain": [
              "<Figure size 432x288 with 1 Axes>"
            ]
          },
          "metadata": {
            "tags": [],
            "needs_background": "light"
          }
        }
      ]
    },
    {
      "cell_type": "code",
      "metadata": {
        "colab": {
          "base_uri": "https://localhost:8080/"
        },
        "id": "bNt4B5rYu143",
        "outputId": "9d61aebf-14ff-45f4-d63f-2946d8a383a7"
      },
      "source": [
        "a = np.random.randn(2,3)\r\n",
        "a"
      ],
      "execution_count": null,
      "outputs": [
        {
          "output_type": "execute_result",
          "data": {
            "text/plain": [
              "array([[-1.3065269 ,  1.6581306 , -0.11816405],\n",
              "       [-0.6801782 ,  0.6663831 , -0.4607198 ]], dtype=float32)"
            ]
          },
          "metadata": {
            "tags": []
          },
          "execution_count": 10
        }
      ]
    },
    {
      "cell_type": "code",
      "metadata": {
        "colab": {
          "base_uri": "https://localhost:8080/"
        },
        "id": "Uru2RI9TrvwA",
        "outputId": "306beec5-7f4a-493f-f416-7840a3680820"
      },
      "source": [
        "nnfs.init()\r\n",
        "class Dense:\r\n",
        "  def __init__(self,n_inputs,n_neurons):\r\n",
        "    self.weights = 0.01*np.random.randn(n_inputs,n_neurons)\r\n",
        "    self.biases = np.zeros((1,n_neurons))\r\n",
        "\r\n",
        "  def forward(self,inputs):\r\n",
        "    self.output = np.dot(inputs,self.weights) + self.biases\r\n",
        "\r\n",
        "X,y = spiral_data(100,3)\r\n",
        "\r\n",
        "dense1 = Dense(2,3)\r\n",
        "dense1.forward(X)\r\n",
        "\r\n",
        "print(dense1.output[:5])\r\n"
      ],
      "execution_count": null,
      "outputs": [
        {
          "output_type": "stream",
          "text": [
            "[[ 0.0000000e+00  0.0000000e+00  0.0000000e+00]\n",
            " [-1.0475188e-04  1.1395361e-04 -4.7983500e-05]\n",
            " [-2.7414842e-04  3.1729150e-04 -8.6921798e-05]\n",
            " [-4.2188365e-04  5.2666257e-04 -5.5912682e-05]\n",
            " [-5.7707680e-04  7.1401405e-04 -8.9430439e-05]]\n"
          ],
          "name": "stdout"
        }
      ]
    },
    {
      "cell_type": "markdown",
      "metadata": {
        "id": "Br-5CG2ubgQY"
      },
      "source": [
        "<h2> Relu Activation </h2>"
      ]
    },
    {
      "cell_type": "code",
      "metadata": {
        "id": "LSP-hbfubjnc"
      },
      "source": [
        "class Activation_Relu:\r\n",
        "  def forward(self,inputs):\r\n",
        "    self.output =  np.maximum(0,inputs)\r\n"
      ],
      "execution_count": null,
      "outputs": []
    },
    {
      "cell_type": "code",
      "metadata": {
        "colab": {
          "base_uri": "https://localhost:8080/"
        },
        "id": "XetLgeINcI84",
        "outputId": "c171c1e6-3990-4184-c126-070d11d6336c"
      },
      "source": [
        "activation = Activation_Relu()\r\n",
        "\r\n",
        "activation.forward(dense1.output)\r\n",
        "\r\n",
        "activation.output[:5]"
      ],
      "execution_count": null,
      "outputs": [
        {
          "output_type": "execute_result",
          "data": {
            "text/plain": [
              "array([[0.        , 0.        , 0.        ],\n",
              "       [0.        , 0.00011395, 0.        ],\n",
              "       [0.        , 0.00031729, 0.        ],\n",
              "       [0.        , 0.00052666, 0.        ],\n",
              "       [0.        , 0.00071401, 0.        ]], dtype=float32)"
            ]
          },
          "metadata": {
            "tags": []
          },
          "execution_count": 27
        }
      ]
    },
    {
      "cell_type": "markdown",
      "metadata": {
        "id": "BPzcnipDIYxO"
      },
      "source": [
        "<h2> Softmax activation </h2>"
      ]
    },
    {
      "cell_type": "code",
      "metadata": {
        "id": "qS8FhvXMIb57"
      },
      "source": [
        "class SoftMax:\r\n",
        "  def forward(self,inputs):\r\n",
        "    exp = np.exp(inputs - np.max(inputs,axis=1,keepdims=True)) # subtracting values with maximum values of that particular row in order to solve problem of exploding gradient and dead neuron\r\n",
        "\r\n",
        "    probabilities = exp / np.sum(exp,axis=1,keepdims=True)\r\n",
        "    self.output = probabilities\r\n"
      ],
      "execution_count": null,
      "outputs": []
    },
    {
      "cell_type": "code",
      "metadata": {
        "colab": {
          "base_uri": "https://localhost:8080/"
        },
        "id": "dscufJbw_A2U",
        "outputId": "8aa40e05-d555-4be4-ae15-a45d16f792b5"
      },
      "source": [
        "X, y = spiral_data(samples=100, classes=3)\r\n",
        "\r\n",
        "dense1 = Dense(2,3)\r\n",
        "\r\n",
        "activation1 = Activation_Relu()\r\n",
        "\r\n",
        "dense2 = Dense(3,3)\r\n",
        "\r\n",
        "activation2 = SoftMax()\r\n",
        "\r\n",
        "dense1.forward(X)\r\n",
        "\r\n",
        "activation1.forward(dense1.output)\r\n",
        "\r\n",
        "dense2.forward(activation1.output)\r\n",
        "\r\n",
        "activation2.forward(dense2.output)\r\n",
        "\r\n",
        "activation2.output.shape"
      ],
      "execution_count": null,
      "outputs": [
        {
          "output_type": "execute_result",
          "data": {
            "text/plain": [
              "(300, 3)"
            ]
          },
          "metadata": {
            "tags": []
          },
          "execution_count": 65
        }
      ]
    },
    {
      "cell_type": "markdown",
      "metadata": {
        "id": "puK_jr4xRQj0"
      },
      "source": [
        "<h1> Loss function </h1>\r\n",
        "  "
      ]
    },
    {
      "cell_type": "markdown",
      "metadata": {
        "id": "eOpHbWhSROMM"
      },
      "source": [
        "<h2> Cross entropy </h2>"
      ]
    },
    {
      "cell_type": "code",
      "metadata": {
        "colab": {
          "base_uri": "https://localhost:8080/"
        },
        "id": "5YVhdZIS-3hy",
        "outputId": "17ac7da5-0932-4e83-e2fa-0c843a6a110d"
      },
      "source": [
        "# An example output from the output layer of the neural network\r\n",
        "softmax_output = [0.7, 0.1, 0.2]\r\n",
        "# Ground truth\r\n",
        "target_output = [1, 0, 0]\r\n",
        "\r\n",
        "output = -(np.log(softmax_output[0])*target_output[0] + np.log(softmax_output[1])*target_output[1] + np.log(softmax_output[2])*target_output[2])\r\n",
        "output"
      ],
      "execution_count": null,
      "outputs": [
        {
          "output_type": "execute_result",
          "data": {
            "text/plain": [
              "0.35667494393873245"
            ]
          },
          "metadata": {
            "tags": []
          },
          "execution_count": 68
        }
      ]
    },
    {
      "cell_type": "code",
      "metadata": {
        "colab": {
          "base_uri": "https://localhost:8080/"
        },
        "id": "EENKOVCu0GJR",
        "outputId": "0eed4f7a-3961-4ed6-f480-4262055129fe"
      },
      "source": [
        "softmax_outputs = [[0.7, 0.1, 0.2],\r\n",
        " [0.1, 0.5, 0.4],\r\n",
        " [0.02, 0.9, 0.08]]\r\n",
        "class_targets = [0, 1, 1]\r\n",
        "\r\n",
        "for target_idx,output in zip(class_targets,softmax_outputs):\r\n",
        "  print(output[target_idx])"
      ],
      "execution_count": null,
      "outputs": [
        {
          "output_type": "stream",
          "text": [
            "0.7\n",
            "0.5\n",
            "0.9\n"
          ],
          "name": "stdout"
        }
      ]
    },
    {
      "cell_type": "code",
      "metadata": {
        "id": "NGEY1u-V0WAr"
      },
      "source": [
        "softmax_outputs = np.array([[0.7, 0.1, 0.2],\r\n",
        " [0.1, 0.5, 0.4],\r\n",
        " [0.02, 0.9, 0.08]])\r\n",
        "class_targets = [0, 1, 1]"
      ],
      "execution_count": null,
      "outputs": []
    },
    {
      "cell_type": "code",
      "metadata": {
        "colab": {
          "base_uri": "https://localhost:8080/"
        },
        "id": "SKD47i180Z-p",
        "outputId": "150c027f-9242-4b98-9f5e-577da9a3a759"
      },
      "source": [
        "softmax_outputs[[0,1,2],class_targets]"
      ],
      "execution_count": null,
      "outputs": [
        {
          "output_type": "execute_result",
          "data": {
            "text/plain": [
              "array([0.7, 0.5, 0.9])"
            ]
          },
          "metadata": {
            "tags": []
          },
          "execution_count": 37
        }
      ]
    },
    {
      "cell_type": "code",
      "metadata": {
        "colab": {
          "base_uri": "https://localhost:8080/"
        },
        "id": "RW6xdSs61pse",
        "outputId": "d57e2945-99c7-4347-912a-60f55ece92bc"
      },
      "source": [
        "res = -np.log(softmax_outputs[range(len(softmax_outputs)),class_targets])\r\n",
        "np.mean(res)"
      ],
      "execution_count": null,
      "outputs": [
        {
          "output_type": "execute_result",
          "data": {
            "text/plain": [
              "0.38506088005216804"
            ]
          },
          "metadata": {
            "tags": []
          },
          "execution_count": 38
        }
      ]
    },
    {
      "cell_type": "code",
      "metadata": {
        "id": "ONQMM0Uf23FK"
      },
      "source": [
        "softmax_outputs = np.array([[0.7, 0.1, 0.2],\r\n",
        " [0.1, 0.5, 0.4],\r\n",
        " [0.02, 0.9, 0.08]])\r\n",
        "class_targets = np.array([[1, 0, 0],\r\n",
        " [0, 1, 0],\r\n",
        " [0, 1, 0]])"
      ],
      "execution_count": null,
      "outputs": []
    },
    {
      "cell_type": "code",
      "metadata": {
        "id": "2kVxFdC6B-Ox"
      },
      "source": [
        "class Loss:\r\n",
        "\r\n",
        "  def calculate(self,outputs,y):\r\n",
        "\r\n",
        "    loss = self.forward(outputs,y)\r\n",
        "    \r\n",
        "    mean_loss = np.mean(loss)\r\n",
        "\r\n",
        "    return mean_loss"
      ],
      "execution_count": null,
      "outputs": []
    },
    {
      "cell_type": "code",
      "metadata": {
        "id": "i6m1CP2pCYbh"
      },
      "source": [
        "class Categorical_Crossentropy(Loss):\r\n",
        "\r\n",
        "  # class to compute categorical cross entropy loss\r\n",
        "\r\n",
        "  def forward(self,y_pred,y_true):\r\n",
        "    \r\n",
        "    samples = len(y_pred)\r\n",
        "\r\n",
        "    \r\n",
        "    y_pred = np.clip(y_pred,1e-7,1 - 1e-7)\r\n",
        "\r\n",
        "    if len(y_true.shape) == 1:\r\n",
        "      # if targets are not one hot encoded i.e targets are in the form of [target_of_sample1,target_of_sample2]\r\n",
        "      y_pred = y_pred[range(samples),y_true]\r\n",
        "\r\n",
        "    elif len(y_true.shape) == 2:\r\n",
        "\r\n",
        "      # if targets are one hot encoded i.e targets are of the shape (n_samples,n_targets) i.e [[1,0,0]]\r\n",
        "\r\n",
        "      y_pred = np.sum(y_pred * y_true,axis=1)\r\n",
        "\r\n",
        "    res = -np.log(y_pred)\r\n",
        "\r\n",
        "    return res"
      ],
      "execution_count": null,
      "outputs": []
    },
    {
      "cell_type": "code",
      "metadata": {
        "colab": {
          "base_uri": "https://localhost:8080/"
        },
        "id": "IqQA9WfgFdQR",
        "outputId": "d6a072e1-0205-4637-b792-5587edae053f"
      },
      "source": [
        "loss = Categorical_Crossentropy()\r\n",
        "\r\n",
        "loss.calculate(softmax_outputs,class_targets)"
      ],
      "execution_count": null,
      "outputs": [
        {
          "output_type": "execute_result",
          "data": {
            "text/plain": [
              "0.38506088005216804"
            ]
          },
          "metadata": {
            "tags": []
          },
          "execution_count": 76
        }
      ]
    },
    {
      "cell_type": "markdown",
      "metadata": {
        "id": "HdT_GzbHFySZ"
      },
      "source": [
        "<h2> Combining everything till this point </h2>"
      ]
    },
    {
      "cell_type": "code",
      "metadata": {
        "id": "LampIEo_F2US"
      },
      "source": [
        "class Dense:\r\n",
        "\r\n",
        "  def __init__(self,n_samples,n_neurons):\r\n",
        "    self.weights = 0.01 * np.random.randn(n_samples,n_neurons)\r\n",
        "    self.biases = np.zeros((1,n_neurons))\r\n",
        "\r\n",
        "  def forward(self,inputs):\r\n",
        "    self.output = np.dot(inputs,self.weights) + self.biases\r\n",
        "\r\n",
        "class ActivationRelu:\r\n",
        "\r\n",
        "  def forward(self,inputs):\r\n",
        "    self.output = np.maximum(0,inputs)\r\n",
        "\r\n",
        "class ActivationSoftmax:\r\n",
        "\r\n",
        "  def forward(self,inputs):\r\n",
        "    # inputs = (n_samples,n_classes)\r\n",
        "    exp = np.exp(inputs - np.max(inputs,axis=1,keepdims=True)) # subtracting with largets of inputs in order to solve problem of exploding gradient for example np.exp(10000) \r\n",
        "\r\n",
        "    self.output = exp / np.sum(exp,axis=1,keepdims=True) # row wise sum for each sample output shape will be output = (n_samples,n_classes)\r\n",
        "\r\n",
        "    return self.output\r\n",
        "\r\n",
        "\r\n",
        "\r\n",
        "class Loss:\r\n",
        "\r\n",
        "  def calculate(self,outputs,y):\r\n",
        "\r\n",
        "    loss_value = self.forward(outputs,y)\r\n",
        "\r\n",
        "    mean_value = np.mean(loss_value)\r\n",
        "  \r\n",
        "    return mean_value\r\n",
        "\r\n",
        "class Categorical_Crossentropy(Loss):\r\n",
        "\r\n",
        "  def forward(self,y_pred,y_true):\r\n",
        "    samples = len(y_pred) \r\n",
        "\r\n",
        "    y_pred = np.clip(y_pred,1e-7, 1 - 1e-7)\r\n",
        "\r\n",
        "    if len(y_true.shape) == 1:\r\n",
        "      y_pred  = y_pred[range(samples),y_true]\r\n",
        "\r\n",
        "    elif len(y_true.shape) == 2:\r\n",
        "      y_pred = np.sum(y_pred*y_true,axis=1)\r\n",
        "\r\n",
        "    probabilities = -np.log(y_pred)\r\n",
        "    return probabilities"
      ],
      "execution_count": null,
      "outputs": []
    },
    {
      "cell_type": "code",
      "metadata": {
        "colab": {
          "base_uri": "https://localhost:8080/"
        },
        "id": "RVxysj4LKeDE",
        "outputId": "33e5dd63-aded-4ec4-8c88-beaf602d194d"
      },
      "source": [
        "# Create dataset\r\n",
        "X, y = spiral_data(samples=100, classes=3)\r\n",
        "\r\n",
        "dense1 = Dense(2,3)\r\n",
        "\r\n",
        "dense1.forward(X)\r\n",
        "\r\n",
        "activation1 = ActivationRelu()\r\n",
        "\r\n",
        "activation1.forward(dense1.output)\r\n",
        "\r\n",
        "dense2 = Dense(3,3)\r\n",
        "\r\n",
        "dense2.forward(activation1.output)\r\n",
        "\r\n",
        "activation2 = ActivationSoftmax()\r\n",
        "\r\n",
        "activation2.forward(dense2.output)\r\n",
        "\r\n",
        "print(activation2.output[:5])\r\n",
        "\r\n",
        "loss = Categorical_Crossentropy()\r\n",
        "\r\n",
        "loss.calculate(activation2.output,y)\r\n",
        "\r\n",
        "\r\n",
        "predictions = np.argmax(activation2.output,axis=1)\r\n",
        "\r\n",
        "\r\n",
        "if len(y.shape) == 2:\r\n",
        "  y = np.argmax(y,axis=1)\r\n",
        "acc = np.mean(predictions==y) \r\n",
        "print(acc)"
      ],
      "execution_count": null,
      "outputs": [
        {
          "output_type": "stream",
          "text": [
            "[[0.33333334 0.33333334 0.33333334]\n",
            " [0.33333412 0.3333327  0.33333313]\n",
            " [0.33333495 0.333332   0.33333302]\n",
            " [0.3333358  0.3333313  0.33333293]\n",
            " [0.33333617 0.33333114 0.3333327 ]]\n",
            "0.31\n"
          ],
          "name": "stdout"
        }
      ]
    },
    {
      "cell_type": "markdown",
      "metadata": {
        "id": "EDcPRxU8Nqnr"
      },
      "source": [
        "<h2> Accuracy Calculation </h2>"
      ]
    },
    {
      "cell_type": "code",
      "metadata": {
        "colab": {
          "base_uri": "https://localhost:8080/"
        },
        "id": "fQ2gAgeXNtsc",
        "outputId": "f5c76b4d-8f18-4afc-9579-212437bdfdcc"
      },
      "source": [
        "softmax_outputs = np.array([[0.7, 0.2, 0.1],\r\n",
        " [0.5, 0.1, 0.4],\r\n",
        " [0.02, 0.9, 0.08]])\r\n",
        "# Target (ground-truth) labels for 3 samples\r\n",
        "class_targets = np.array([0, 1, 1])\r\n",
        "\r\n",
        "np.mean(np.argmax(softmax_outputs,axis=1) == class_targets)"
      ],
      "execution_count": null,
      "outputs": [
        {
          "output_type": "execute_result",
          "data": {
            "text/plain": [
              "0.6666666666666666"
            ]
          },
          "metadata": {
            "tags": []
          },
          "execution_count": 79
        }
      ]
    },
    {
      "cell_type": "code",
      "metadata": {
        "id": "CefpplF1oPF2"
      },
      "source": [
        "import matplotlib.pyplot as plt\r\n"
      ],
      "execution_count": null,
      "outputs": []
    },
    {
      "cell_type": "markdown",
      "metadata": {
        "id": "iRWKdAxneMX6"
      },
      "source": [
        "<h2> Back propagation </h2>"
      ]
    },
    {
      "cell_type": "code",
      "metadata": {
        "id": "tHCdC674eLrn"
      },
      "source": [
        "import numpy as np\r\n",
        "\r\n",
        "dvalues = np.array([[1., 1., 1.],\r\n",
        " [2., 2., 2.],\r\n",
        " [3., 3., 3.]])\r\n",
        "\r\n",
        "inputs = np.array([[1, 2, 3, 2.5],\r\n",
        " [2., 5., -1., 2],\r\n",
        " [-1.5, 2.7, 3.3, -0.8]])\r\n",
        "\r\n",
        "weights = np.array([[0.2, 0.8, -0.5, 1],\r\n",
        " [0.5, -0.91, 0.26, -0.5],\r\n",
        " [-0.26, -0.27, 0.17, 0.87]]).T\r\n",
        "\r\n",
        "\r\n",
        "biases = np.array([[2, 3, 0.5]])\r\n",
        "\r\n",
        "\r\n",
        "layer_outputs = np.dot(inputs,weights) + biases\r\n",
        "relu_outputs = np.maximum(0,layer_outputs)\r\n",
        "\r\n",
        "\r\n",
        "drelu = dvalues.copy()\r\n",
        "drelu[relu_outputs <= 0] = 0\r\n",
        "\r\n",
        "dweights = np.dot(inputs.T,drelu)\r\n",
        "\r\n",
        "dinputs = np.dot(drelu,weights.T)\r\n",
        "\r\n"
      ],
      "execution_count": null,
      "outputs": []
    },
    {
      "cell_type": "code",
      "metadata": {
        "id": "ac8sOSk7jHKM"
      },
      "source": [
        "class Dense:\r\n",
        "\r\n",
        "  def __init__(self,n_samples,n_neurons):\r\n",
        "    self.weights = 0.01 * np.random.randn(n_samples,n_neurons)\r\n",
        "    self.biases = np.zeros((1,n_neurons))\r\n",
        "    \r\n",
        "\r\n",
        "  def forward(self,inputs):\r\n",
        "    self.output = np.dot(inputs,self.weights) + self.biases\r\n",
        "    self.inputs = inputs\r\n",
        "\r\n",
        "  def backward(self,dvalues):\r\n",
        "\r\n",
        "    self.dweights = np.dot(self.inputs.T,dvalues)\r\n",
        "    self.dbiases = np.sum(dvalues,axis=0,keepdims=True)\r\n",
        "    self.dinputs = np.dot(dvalues, self.weights.T)\r\n",
        "\r\n",
        "class ActivationRelu:\r\n",
        "\r\n",
        "  def forward(self,inputs):\r\n",
        "    self.output = np.maximum(0,inputs)\r\n",
        "    self.inputs = inputs\r\n",
        "  \r\n",
        "  def backward(self,dvalues):\r\n",
        "\r\n",
        "    self.drelu = dvalues.copy()\r\n",
        "    self.drelu[self.inputs<=0] = 0\r\n",
        "\r\n",
        "\r\n",
        "class ActivationSoftmax:\r\n",
        "\r\n",
        "\r\n",
        "  def forward(self,inputs):\r\n",
        "    \r\n",
        "    exp = np.exp(inputs - np.max(inputs,axis=1,keepdims=True))\r\n",
        "\r\n",
        "    \r\n",
        "\r\n",
        "    self.output = exp / np.sum(exp,axis=1,keepdims=True) # row wise sum for each sample output shape will be output = (n_samples,n_classes)\r\n",
        "\r\n",
        "\r\n",
        "\r\n",
        "class Loss:\r\n",
        "\r\n",
        "  def calculate(self,outputs,y):\r\n",
        "\r\n",
        "    self.forward(outputs,y)\r\n",
        "\r\n",
        "    loss_value = self.probabilities\r\n",
        "\r\n",
        "    mean_value = np.mean(loss_value)\r\n",
        "  \r\n",
        "    return mean_value\r\n",
        "\r\n",
        "class Categorical_Crossentropy(Loss):\r\n",
        "\r\n",
        "  def forward(self,y_pred,y_true):\r\n",
        "    samples = len(y_pred) \r\n",
        "\r\n",
        "    y_pred = np.clip(y_pred,1e-7, 1 - 1e-7)\r\n",
        "\r\n",
        "    if len(y_true.shape) == 1:\r\n",
        "      y_pred  = y_pred[range(samples),y_true]\r\n",
        "\r\n",
        "    elif len(y_true.shape) == 2:\r\n",
        "      y_pred = np.sum(y_pred*y_true,axis=1)\r\n",
        "\r\n",
        "    self.probabilities = -np.log(y_pred)\r\n",
        "\r\n",
        "\r\n",
        "class Softmax_Activation_Crossentropy:\r\n",
        "\r\n",
        "  def __init__(self):\r\n",
        "    self.activation = ActivationSoftmax()\r\n",
        "    self.loss = Categorical_Crossentropy()\r\n",
        "  \r\n",
        "  def forward(self,inputs,y_true):\r\n",
        "\r\n",
        "    self.activation.forward(inputs)\r\n",
        "    \r\n",
        "    self.output = self.activation.output\r\n",
        "\r\n",
        "    \r\n",
        "    return self.loss.calculate(self.output,y_true)\r\n",
        "\r\n",
        "\r\n",
        "  def backward(self,dvalues,y_true):\r\n",
        "\r\n",
        "    samples = len(dvalues)\r\n",
        "\r\n",
        "    if len(y_true.shape) == 2:\r\n",
        "      y_true = np.argmax(y_true,axis=1)\r\n",
        "\r\n",
        "    self.dinputs = dvalues.copy()\r\n",
        "    # derivative of softmax is y_i_j - y_hat_i_j\r\n",
        "    self.dinputs[range(samples),y_true] -= 1\r\n",
        "\r\n",
        "    self.dinputs = self.dinputs / samples\r\n",
        "\r\n",
        "    \r\n"
      ],
      "execution_count": null,
      "outputs": []
    },
    {
      "cell_type": "code",
      "metadata": {
        "colab": {
          "base_uri": "https://localhost:8080/"
        },
        "id": "5Xh33p3pneSb",
        "outputId": "1b1a459c-befd-433e-994c-b419f83ec373"
      },
      "source": [
        "\r\n",
        "X, y = spiral_data(samples=100, classes=3)\r\n",
        "\r\n",
        "dense1 = Dense(2,3)\r\n",
        "\r\n",
        "activation1 = ActivationRelu()\r\n",
        "\r\n",
        "dense2 = Dense(3,3)\r\n",
        "\r\n",
        "\r\n",
        "activation2 = Softmax_Activation_Crossentropy()\r\n",
        "\r\n",
        "dense1.forward(X)\r\n",
        "\r\n",
        "print(dense1.output[:5])\r\n",
        "\r\n",
        "activation1.forward(dense1.output)\r\n",
        "\r\n",
        "dense2.forward(activation1.output)\r\n",
        "\r\n",
        "\r\n",
        "loss = activation2.forward(dense2.output,y)\r\n",
        "print(loss)\r\n",
        "\r\n",
        "prediction = np.argmax(activation2.output,axis=1)\r\n",
        "\r\n",
        "accuracy = np.mean(prediction == y)\r\n",
        "\r\n",
        "\r\n",
        "print(accuracy)\r\n",
        "\r\n",
        "activation2.backward(activation2.output,y)\r\n",
        "dense2.backward(activation2.dinputs)\r\n",
        "activation1.backward(dense2.dinputs)\r\n",
        "dense1.backward(activation1.drelu)\r\n",
        "\r\n",
        "activation2.dinputs[:5]"
      ],
      "execution_count": null,
      "outputs": [
        {
          "output_type": "stream",
          "text": [
            "[[ 0.0000000e+00  0.0000000e+00  0.0000000e+00]\n",
            " [ 1.3171324e-05  1.5636622e-04 -3.7923790e-05]\n",
            " [-2.5519877e-04  4.5124092e-04  4.4624896e-05]\n",
            " [-3.2183601e-04  7.0533255e-04  2.9260027e-05]\n",
            " [-1.5462888e-04  8.3128718e-04 -8.3571489e-05]]\n",
            "1.098608\n",
            "0.35\n"
          ],
          "name": "stdout"
        },
        {
          "output_type": "execute_result",
          "data": {
            "text/plain": [
              "array([[-0.00222222,  0.00111111,  0.00111111],\n",
              "       [-0.00222222,  0.00111111,  0.00111111],\n",
              "       [-0.00222222,  0.00111111,  0.00111111],\n",
              "       [-0.00222222,  0.00111111,  0.00111111],\n",
              "       [-0.00222222,  0.00111112,  0.0011111 ]], dtype=float32)"
            ]
          },
          "metadata": {
            "tags": []
          },
          "execution_count": 81
        }
      ]
    },
    {
      "cell_type": "markdown",
      "metadata": {
        "id": "f5pzs-CYYbU5"
      },
      "source": [
        "<h2> Optimizers </h2>"
      ]
    },
    {
      "cell_type": "code",
      "metadata": {
        "id": "jRm0KpJBnY8h"
      },
      "source": [
        "# SGD optimizers\r\n",
        "class SGD:\r\n",
        "\r\n",
        "  def __init__(self,learning_rate=1,rate_decay=0.):\r\n",
        "    self.learning_rate = learning_rate\r\n",
        "    self.rate_decay = rate_decay\r\n",
        "    self.iterations = 0\r\n",
        "    self.current_learning_rate = learning_rate\r\n",
        "\r\n",
        "  \r\n",
        "\r\n",
        "  def update_learning_rate(self):\r\n",
        "\r\n",
        "    if self.rate_decay:\r\n",
        "      self.current_learning_rate = self.learning_rate * (1. / (1. + self.rate_decay * self.iterations))\r\n",
        "\r\n",
        "\r\n",
        "\r\n",
        "  def update_params(self,layer):\r\n",
        "    layer.weights -= self.current_learning_rate*layer.dweights\r\n",
        "    layer.biases -= self.current_learning_rate*layer.dbiases\r\n",
        "  \r\n",
        "  def update_iterations(self):\r\n",
        "    self.iterations += 1\r\n",
        "\r\n"
      ],
      "execution_count": null,
      "outputs": []
    },
    {
      "cell_type": "code",
      "metadata": {
        "id": "KY9jcV8PWboC"
      },
      "source": [
        "class SGD_Momentum:\r\n",
        "  \r\n",
        "  def __init__(self,learning_rate=1,rate_decay=0.,momentum = 0.):\r\n",
        "    self.learning_rate = learning_rate\r\n",
        "    self.rate_decay = rate_decay\r\n",
        "    self.iterations = 0\r\n",
        "    self.current_learning_rate = learning_rate\r\n",
        "    self.momentum = momentum\r\n",
        "\r\n",
        "  def update_learning_rate(self):\r\n",
        "\r\n",
        "    if self.rate_decay:\r\n",
        "      self.current_learning_rate = self.learning_rate * (1. / (1. + self.rate_decay * self.iterations))\r\n",
        "\r\n",
        "  def update_params(self,layer):\r\n",
        "    if self.momentum:\r\n",
        "      if not hasattr(layer,'weight_momentum'):\r\n",
        "        layer.weight_momentum = np.zeros_like(layer.weights)\r\n",
        "\r\n",
        "        layer.bias_momentum = np.zeros_like(layer.biases)\r\n",
        "\r\n",
        "      weight_updates = self.momentum * layer.weight_momentum - self.current_learning_rate * layer.dweights\r\n",
        "      biases_updates = self.momentum * layer.bias_momentum - self.current_learning_rate * layer.dbiases\r\n",
        "      layer.weight_momentum = weight_updates\r\n",
        "      layer.bias_momentum - biases_updates\r\n",
        "    else:\r\n",
        "      weight_updates -= self.current_learning_rate * layer.dweights\r\n",
        "      biases_updates -= self.current_learning_rate * layer.dbiases\r\n",
        "\r\n",
        "    layer.weights += weight_updates\r\n",
        "    layer.biases += biases_updates\r\n",
        "\r\n",
        "  def update_iterations(self):\r\n",
        "    self.iterations += 1"
      ],
      "execution_count": null,
      "outputs": []
    },
    {
      "cell_type": "code",
      "metadata": {
        "colab": {
          "base_uri": "https://localhost:8080/"
        },
        "id": "rHSbTqbSSjex",
        "outputId": "f1c51f9c-ca3a-4fa5-cd33-17680c3e083f"
      },
      "source": [
        "\r\n",
        "X, y = spiral_data(samples=100, classes=3)\r\n",
        "\r\n",
        "dense1 = Dense(2,64)\r\n",
        "\r\n",
        "activation1 = ActivationRelu()\r\n",
        "\r\n",
        "dense2 = Dense(64,3)\r\n",
        "\r\n",
        "activation2 = Softmax_Activation_Crossentropy()\r\n",
        "\r\n",
        "optimizers = SGD(rate_decay=1e-3)\r\n",
        "for epoch in range(20001):\r\n",
        "  dense1.forward(X)\r\n",
        "\r\n",
        "  activation1.forward(dense1.output)\r\n",
        "\r\n",
        "  dense2.forward(activation1.output)\r\n",
        "\r\n",
        "  loss = activation2.forward(dense2.output,y)\r\n",
        "\r\n",
        "  prediction = np.argmax(activation2.output,axis=1)\r\n",
        "\r\n",
        "  acc = np.mean(prediction==y)\r\n",
        "\r\n",
        "  if not epoch % 100 :\r\n",
        "    print('epoch is {},loss is {} and acc is {}, learning_Rate is {}'.format(epoch,loss,acc,optimizers.current_learning_rate))\r\n",
        "\r\n",
        "  activation2.backward(activation2.output,y)\r\n",
        "\r\n",
        "  dense2.backward(activation2.dinputs)\r\n",
        "\r\n",
        "  activation1.backward(dense2.dinputs)\r\n",
        "\r\n",
        "  dense1.backward(activation1.drelu)\r\n",
        "\r\n",
        "  optimizers.update_learning_rate()\r\n",
        "  optimizers.update_params(dense1)\r\n",
        "  optimizers.update_params(dense2)\r\n",
        "  optimizers.update_iterations()\r\n"
      ],
      "execution_count": null,
      "outputs": [
        {
          "output_type": "stream",
          "text": [
            "epoch is 0,loss is 1.098588228225708 and acc is 0.3433333333333333, learning_Rate is 1\n",
            "epoch is 100,loss is 1.0895360708236694 and acc is 0.4066666666666667, learning_Rate is 0.9099181073703367\n",
            "epoch is 200,loss is 1.0785685777664185 and acc is 0.4066666666666667, learning_Rate is 0.8340283569641367\n",
            "epoch is 300,loss is 1.076603651046753 and acc is 0.41, learning_Rate is 0.7698229407236336\n",
            "epoch is 400,loss is 1.0759880542755127 and acc is 0.4066666666666667, learning_Rate is 0.7147962830593281\n",
            "epoch is 500,loss is 1.0752710103988647 and acc is 0.4033333333333333, learning_Rate is 0.66711140760507\n",
            "epoch is 600,loss is 1.0739953517913818 and acc is 0.41, learning_Rate is 0.6253908692933083\n",
            "epoch is 700,loss is 1.072247862815857 and acc is 0.4166666666666667, learning_Rate is 0.5885815185403178\n",
            "epoch is 800,loss is 1.0700596570968628 and acc is 0.42, learning_Rate is 0.5558643690939411\n",
            "epoch is 900,loss is 1.0678051710128784 and acc is 0.4266666666666667, learning_Rate is 0.526592943654555\n",
            "epoch is 1000,loss is 1.0653979778289795 and acc is 0.4266666666666667, learning_Rate is 0.5002501250625312\n",
            "epoch is 1100,loss is 1.0626633167266846 and acc is 0.43, learning_Rate is 0.4764173415912339\n",
            "epoch is 1200,loss is 1.0593966245651245 and acc is 0.43666666666666665, learning_Rate is 0.45475216007276037\n",
            "epoch is 1300,loss is 1.0553241968154907 and acc is 0.44, learning_Rate is 0.43497172683775553\n",
            "epoch is 1400,loss is 1.0503056049346924 and acc is 0.45, learning_Rate is 0.4168403501458941\n",
            "epoch is 1500,loss is 1.0446463823318481 and acc is 0.47, learning_Rate is 0.4001600640256102\n",
            "epoch is 1600,loss is 1.0386847257614136 and acc is 0.4766666666666667, learning_Rate is 0.3847633705271258\n",
            "epoch is 1700,loss is 1.0328779220581055 and acc is 0.47333333333333333, learning_Rate is 0.3705075954057058\n",
            "epoch is 1800,loss is 1.0275697708129883 and acc is 0.46, learning_Rate is 0.35727045373347627\n",
            "epoch is 1900,loss is 1.022765040397644 and acc is 0.4633333333333333, learning_Rate is 0.3449465332873405\n",
            "epoch is 2000,loss is 1.0175789594650269 and acc is 0.4766666666666667, learning_Rate is 0.33344448149383127\n",
            "epoch is 2100,loss is 1.0131158828735352 and acc is 0.48, learning_Rate is 0.32268473701193934\n",
            "epoch is 2200,loss is 1.0088244676589966 and acc is 0.49666666666666665, learning_Rate is 0.31259768677711786\n",
            "epoch is 2300,loss is 1.0035316944122314 and acc is 0.5033333333333333, learning_Rate is 0.3031221582297666\n",
            "epoch is 2400,loss is 0.9981781840324402 and acc is 0.51, learning_Rate is 0.29420417769932333\n",
            "epoch is 2500,loss is 0.9933339357376099 and acc is 0.51, learning_Rate is 0.2857959416976279\n",
            "epoch is 2600,loss is 0.9888244867324829 and acc is 0.49, learning_Rate is 0.2778549597110308\n",
            "epoch is 2700,loss is 0.9842710494995117 and acc is 0.49333333333333335, learning_Rate is 0.2703433360367667\n",
            "epoch is 2800,loss is 0.9797359108924866 and acc is 0.51, learning_Rate is 0.26322716504343247\n",
            "epoch is 2900,loss is 0.974560558795929 and acc is 0.5233333333333333, learning_Rate is 0.25647601949217746\n",
            "epoch is 3000,loss is 0.9695389866828918 and acc is 0.5333333333333333, learning_Rate is 0.25006251562890724\n",
            "epoch is 3100,loss is 0.9733800292015076 and acc is 0.54, learning_Rate is 0.2439619419370578\n",
            "epoch is 3200,loss is 0.9767566919326782 and acc is 0.5333333333333333, learning_Rate is 0.23815194093831865\n",
            "epoch is 3300,loss is 0.9765751361846924 and acc is 0.5233333333333333, learning_Rate is 0.23261223540358225\n",
            "epoch is 3400,loss is 0.9731679558753967 and acc is 0.5233333333333333, learning_Rate is 0.22732439190725165\n",
            "epoch is 3500,loss is 0.9697532057762146 and acc is 0.5233333333333333, learning_Rate is 0.22227161591464767\n",
            "epoch is 3600,loss is 0.9659727215766907 and acc is 0.5333333333333333, learning_Rate is 0.21743857360295715\n",
            "epoch is 3700,loss is 0.9647690653800964 and acc is 0.5333333333333333, learning_Rate is 0.21281123643328367\n",
            "epoch is 3800,loss is 0.9613232612609863 and acc is 0.5366666666666666, learning_Rate is 0.20837674515524068\n",
            "epoch is 3900,loss is 0.9555125832557678 and acc is 0.5366666666666666, learning_Rate is 0.20412329046744235\n",
            "epoch is 4000,loss is 0.952280580997467 and acc is 0.5466666666666666, learning_Rate is 0.2000400080016003\n",
            "epoch is 4100,loss is 0.9492214918136597 and acc is 0.5533333333333333, learning_Rate is 0.19611688566385566\n",
            "epoch is 4200,loss is 0.9436835646629333 and acc is 0.5433333333333333, learning_Rate is 0.19234468166955185\n",
            "epoch is 4300,loss is 0.9400728344917297 and acc is 0.55, learning_Rate is 0.18871485185884126\n",
            "epoch is 4400,loss is 0.9383693337440491 and acc is 0.5566666666666666, learning_Rate is 0.18521948508983144\n",
            "epoch is 4500,loss is 0.9341198801994324 and acc is 0.56, learning_Rate is 0.18185124568103292\n",
            "epoch is 4600,loss is 0.9299283027648926 and acc is 0.5566666666666666, learning_Rate is 0.1786033220217896\n",
            "epoch is 4700,loss is 0.924778938293457 and acc is 0.5666666666666667, learning_Rate is 0.1754693805930865\n",
            "epoch is 4800,loss is 0.9223282933235168 and acc is 0.5666666666666667, learning_Rate is 0.17244352474564578\n",
            "epoch is 4900,loss is 0.917041540145874 and acc is 0.5733333333333334, learning_Rate is 0.16952025767079165\n",
            "epoch is 5000,loss is 0.9130090475082397 and acc is 0.5833333333333334, learning_Rate is 0.16669444907484582\n",
            "epoch is 5100,loss is 0.9091841578483582 and acc is 0.5833333333333334, learning_Rate is 0.16396130513198884\n",
            "epoch is 5200,loss is 0.9053424000740051 and acc is 0.5866666666666667, learning_Rate is 0.16131634134537828\n",
            "epoch is 5300,loss is 0.9012807011604309 and acc is 0.59, learning_Rate is 0.15875535799333226\n",
            "epoch is 5400,loss is 0.8966411352157593 and acc is 0.5966666666666667, learning_Rate is 0.1562744178777934\n",
            "epoch is 5500,loss is 0.8910709619522095 and acc is 0.6, learning_Rate is 0.15386982612709646\n",
            "epoch is 5600,loss is 0.8876240849494934 and acc is 0.6066666666666667, learning_Rate is 0.15153811183512653\n",
            "epoch is 5700,loss is 0.8832550048828125 and acc is 0.6066666666666667, learning_Rate is 0.14927601134497687\n",
            "epoch is 5800,loss is 0.8807106614112854 and acc is 0.61, learning_Rate is 0.14708045300779526\n",
            "epoch is 5900,loss is 0.8766255974769592 and acc is 0.6, learning_Rate is 0.14494854326714016\n",
            "epoch is 6000,loss is 0.874765932559967 and acc is 0.6, learning_Rate is 0.1428775539362766\n",
            "epoch is 6100,loss is 0.8697660565376282 and acc is 0.5933333333333334, learning_Rate is 0.1408649105507818\n",
            "epoch is 6200,loss is 0.8649015426635742 and acc is 0.6066666666666667, learning_Rate is 0.13890818169190167\n",
            "epoch is 6300,loss is 0.8587957620620728 and acc is 0.6233333333333333, learning_Rate is 0.13700506918755992\n",
            "epoch is 6400,loss is 0.8546003103256226 and acc is 0.6266666666666667, learning_Rate is 0.13515339910798757\n",
            "epoch is 6500,loss is 0.8526644110679626 and acc is 0.6333333333333333, learning_Rate is 0.13335111348179757\n",
            "epoch is 6600,loss is 0.851172685623169 and acc is 0.64, learning_Rate is 0.13159626266614027\n",
            "epoch is 6700,loss is 0.8491889238357544 and acc is 0.6433333333333333, learning_Rate is 0.12988699831146902\n",
            "epoch is 6800,loss is 0.8465111255645752 and acc is 0.6433333333333333, learning_Rate is 0.12822156686754713\n",
            "epoch is 6900,loss is 0.843130886554718 and acc is 0.64, learning_Rate is 0.126598303582732\n",
            "epoch is 7000,loss is 0.840382993221283 and acc is 0.6433333333333333, learning_Rate is 0.12501562695336915\n",
            "epoch is 7100,loss is 0.8384796380996704 and acc is 0.64, learning_Rate is 0.12347203358439313\n",
            "epoch is 7200,loss is 0.8357019424438477 and acc is 0.6366666666666667, learning_Rate is 0.12196609342602757\n",
            "epoch is 7300,loss is 0.833544135093689 and acc is 0.6333333333333333, learning_Rate is 0.12049644535486204\n",
            "epoch is 7400,loss is 0.8307328820228577 and acc is 0.63, learning_Rate is 0.11906179307060363\n",
            "epoch is 7500,loss is 0.8286810517311096 and acc is 0.6266666666666667, learning_Rate is 0.11766090128250381\n",
            "epoch is 7600,loss is 0.8268333077430725 and acc is 0.63, learning_Rate is 0.11629259216187929\n",
            "epoch is 7700,loss is 0.8250133395195007 and acc is 0.6266666666666667, learning_Rate is 0.11495574203931487\n",
            "epoch is 7800,loss is 0.8232864141464233 and acc is 0.6233333333333333, learning_Rate is 0.11364927832708263\n",
            "epoch is 7900,loss is 0.8217068314552307 and acc is 0.6233333333333333, learning_Rate is 0.11237217664906168\n",
            "epoch is 8000,loss is 0.82015061378479 and acc is 0.63, learning_Rate is 0.11112345816201799\n",
            "epoch is 8100,loss is 0.8187209963798523 and acc is 0.63, learning_Rate is 0.10990218705352237\n",
            "epoch is 8200,loss is 0.8174715638160706 and acc is 0.63, learning_Rate is 0.10870746820306555\n",
            "epoch is 8300,loss is 0.8159933090209961 and acc is 0.6333333333333333, learning_Rate is 0.1075384449940854\n",
            "epoch is 8400,loss is 0.8146291971206665 and acc is 0.63, learning_Rate is 0.10639429726566654\n",
            "epoch is 8500,loss is 0.8134865164756775 and acc is 0.6333333333333333, learning_Rate is 0.10527423939362038\n",
            "epoch is 8600,loss is 0.8122504949569702 and acc is 0.6333333333333333, learning_Rate is 0.10417751849150952\n",
            "epoch is 8700,loss is 0.8108900785446167 and acc is 0.63, learning_Rate is 0.10310341272296113\n",
            "epoch is 8800,loss is 0.8096704483032227 and acc is 0.6266666666666667, learning_Rate is 0.1020512297173181\n",
            "epoch is 8900,loss is 0.8084938526153564 and acc is 0.63, learning_Rate is 0.10102030508132134\n",
            "epoch is 9000,loss is 0.8073753118515015 and acc is 0.63, learning_Rate is 0.1000100010001\n",
            "epoch is 9100,loss is 0.806273341178894 and acc is 0.6333333333333333, learning_Rate is 0.09901970492127933\n",
            "epoch is 9200,loss is 0.8051666021347046 and acc is 0.6333333333333333, learning_Rate is 0.09804882831650162\n",
            "epoch is 9300,loss is 0.8040834665298462 and acc is 0.6333333333333333, learning_Rate is 0.09709680551509856\n",
            "epoch is 9400,loss is 0.8030077219009399 and acc is 0.6333333333333333, learning_Rate is 0.09616309260505818\n",
            "epoch is 9500,loss is 0.8019872307777405 and acc is 0.6333333333333333, learning_Rate is 0.09524716639679968\n",
            "epoch is 9600,loss is 0.8009631037712097 and acc is 0.6333333333333333, learning_Rate is 0.09434852344560807\n",
            "epoch is 9700,loss is 0.7999446988105774 and acc is 0.6333333333333333, learning_Rate is 0.09346667912889055\n",
            "epoch is 9800,loss is 0.798921525478363 and acc is 0.6333333333333333, learning_Rate is 0.09260116677470137\n",
            "epoch is 9900,loss is 0.7979706525802612 and acc is 0.63, learning_Rate is 0.09175153683824203\n",
            "epoch is 10000,loss is 0.7970104217529297 and acc is 0.63, learning_Rate is 0.09091735612328393\n",
            "epoch is 10100,loss is 0.7960894703865051 and acc is 0.63, learning_Rate is 0.09009820704567979\n",
            "epoch is 10200,loss is 0.7951582074165344 and acc is 0.63, learning_Rate is 0.0892936869363336\n",
            "epoch is 10300,loss is 0.7942520380020142 and acc is 0.63, learning_Rate is 0.08850340738118417\n",
            "epoch is 10400,loss is 0.7933285236358643 and acc is 0.6333333333333333, learning_Rate is 0.08772699359592946\n",
            "epoch is 10500,loss is 0.7924448847770691 and acc is 0.6333333333333333, learning_Rate is 0.08696408383337681\n",
            "epoch is 10600,loss is 0.791607677936554 and acc is 0.6333333333333333, learning_Rate is 0.08621432882145012\n",
            "epoch is 10700,loss is 0.790747344493866 and acc is 0.6333333333333333, learning_Rate is 0.08547739123001966\n",
            "epoch is 10800,loss is 0.7899372577667236 and acc is 0.6333333333333333, learning_Rate is 0.08475294516484448\n",
            "epoch is 10900,loss is 0.7891244292259216 and acc is 0.6333333333333333, learning_Rate is 0.08404067568703252\n",
            "epoch is 11000,loss is 0.7883021831512451 and acc is 0.63, learning_Rate is 0.08334027835652971\n",
            "epoch is 11100,loss is 0.787493109703064 and acc is 0.6366666666666667, learning_Rate is 0.08265145879824778\n",
            "epoch is 11200,loss is 0.7867214679718018 and acc is 0.6366666666666667, learning_Rate is 0.08197393228953193\n",
            "epoch is 11300,loss is 0.7858784198760986 and acc is 0.6333333333333333, learning_Rate is 0.08130742336775348\n",
            "epoch is 11400,loss is 0.7849684357643127 and acc is 0.6333333333333333, learning_Rate is 0.08065166545689167\n",
            "epoch is 11500,loss is 0.7841746211051941 and acc is 0.6333333333333333, learning_Rate is 0.08000640051204096\n",
            "epoch is 11600,loss is 0.7833428978919983 and acc is 0.6333333333333333, learning_Rate is 0.07937137868084769\n",
            "epoch is 11700,loss is 0.7825475931167603 and acc is 0.6366666666666667, learning_Rate is 0.07874635798094339\n",
            "epoch is 11800,loss is 0.7818031907081604 and acc is 0.6366666666666667, learning_Rate is 0.07813110399249942\n",
            "epoch is 11900,loss is 0.7810907959938049 and acc is 0.6366666666666667, learning_Rate is 0.07752538956508256\n",
            "epoch is 12000,loss is 0.7803748846054077 and acc is 0.6366666666666667, learning_Rate is 0.07692899453804139\n",
            "epoch is 12100,loss is 0.7796669602394104 and acc is 0.64, learning_Rate is 0.07634170547370028\n",
            "epoch is 12200,loss is 0.7789597511291504 and acc is 0.64, learning_Rate is 0.07576331540268202\n",
            "epoch is 12300,loss is 0.778277575969696 and acc is 0.6433333333333333, learning_Rate is 0.07519362358072036\n",
            "epoch is 12400,loss is 0.777584969997406 and acc is 0.6433333333333333, learning_Rate is 0.07463243525636241\n",
            "epoch is 12500,loss is 0.7769176363945007 and acc is 0.6466666666666666, learning_Rate is 0.07407956144899622\n",
            "epoch is 12600,loss is 0.7762494683265686 and acc is 0.6466666666666666, learning_Rate is 0.07353481873667181\n",
            "epoch is 12700,loss is 0.77558833360672 and acc is 0.6466666666666666, learning_Rate is 0.07299802905321556\n",
            "epoch is 12800,loss is 0.774944543838501 and acc is 0.65, learning_Rate is 0.07246901949416625\n",
            "epoch is 12900,loss is 0.7742933630943298 and acc is 0.6466666666666666, learning_Rate is 0.07194762213108856\n",
            "epoch is 13000,loss is 0.7736454010009766 and acc is 0.65, learning_Rate is 0.07143367383384527\n",
            "epoch is 13100,loss is 0.772998034954071 and acc is 0.65, learning_Rate is 0.07092701610043266\n",
            "epoch is 13200,loss is 0.7723493576049805 and acc is 0.6533333333333333, learning_Rate is 0.07042749489400663\n",
            "epoch is 13300,loss is 0.7717090845108032 and acc is 0.6533333333333333, learning_Rate is 0.06993496048674733\n",
            "epoch is 13400,loss is 0.7710864543914795 and acc is 0.6533333333333333, learning_Rate is 0.06944926731022988\n",
            "epoch is 13500,loss is 0.7704638242721558 and acc is 0.6566666666666666, learning_Rate is 0.06897027381198703\n",
            "epoch is 13600,loss is 0.7698478102684021 and acc is 0.6533333333333333, learning_Rate is 0.06849784231796699\n",
            "epoch is 13700,loss is 0.7692424654960632 and acc is 0.6533333333333333, learning_Rate is 0.06803183890060549\n",
            "epoch is 13800,loss is 0.7686474323272705 and acc is 0.6533333333333333, learning_Rate is 0.06757213325224677\n",
            "epoch is 13900,loss is 0.7680613398551941 and acc is 0.6533333333333333, learning_Rate is 0.06711859856366198\n",
            "epoch is 14000,loss is 0.7674793601036072 and acc is 0.6533333333333333, learning_Rate is 0.06667111140742715\n",
            "epoch is 14100,loss is 0.7668951153755188 and acc is 0.6533333333333333, learning_Rate is 0.0662295516259355\n",
            "epoch is 14200,loss is 0.7663232684135437 and acc is 0.66, learning_Rate is 0.06579380222383052\n",
            "epoch is 14300,loss is 0.7657434344291687 and acc is 0.66, learning_Rate is 0.06536374926465782\n",
            "epoch is 14400,loss is 0.765180230140686 and acc is 0.66, learning_Rate is 0.06493928177154361\n",
            "epoch is 14500,loss is 0.7646099925041199 and acc is 0.66, learning_Rate is 0.06452029163171817\n",
            "epoch is 14600,loss is 0.763384997844696 and acc is 0.6633333333333333, learning_Rate is 0.06410667350471184\n",
            "epoch is 14700,loss is 0.7625555396080017 and acc is 0.6633333333333333, learning_Rate is 0.0636983247340595\n",
            "epoch is 14800,loss is 0.7618044018745422 and acc is 0.6666666666666666, learning_Rate is 0.06329514526235838\n",
            "epoch is 14900,loss is 0.7611276507377625 and acc is 0.6666666666666666, learning_Rate is 0.06289703754953141\n",
            "epoch is 15000,loss is 0.7604572176933289 and acc is 0.6666666666666666, learning_Rate is 0.06250390649415588\n",
            "epoch is 15100,loss is 0.7597751617431641 and acc is 0.6666666666666666, learning_Rate is 0.06211565935772408\n",
            "epoch is 15200,loss is 0.7591440677642822 and acc is 0.6666666666666666, learning_Rate is 0.061732205691709376\n",
            "epoch is 15300,loss is 0.7585458159446716 and acc is 0.67, learning_Rate is 0.061353457267317016\n",
            "epoch is 15400,loss is 0.7579687237739563 and acc is 0.67, learning_Rate is 0.06097932800780535\n",
            "epoch is 15500,loss is 0.7574244737625122 and acc is 0.6666666666666666, learning_Rate is 0.060609733923268065\n",
            "epoch is 15600,loss is 0.7568873763084412 and acc is 0.67, learning_Rate is 0.060244593047773964\n",
            "epoch is 15700,loss is 0.7563351392745972 and acc is 0.67, learning_Rate is 0.0598838253787652\n",
            "epoch is 15800,loss is 0.7557998299598694 and acc is 0.67, learning_Rate is 0.059527352818620156\n",
            "epoch is 15900,loss is 0.7552573084831238 and acc is 0.67, learning_Rate is 0.05917509911829102\n",
            "epoch is 16000,loss is 0.7547332644462585 and acc is 0.67, learning_Rate is 0.058826989822930754\n",
            "epoch is 16100,loss is 0.7541970014572144 and acc is 0.6733333333333333, learning_Rate is 0.058482952219428036\n",
            "epoch is 16200,loss is 0.7536634206771851 and acc is 0.6733333333333333, learning_Rate is 0.05814291528577242\n",
            "epoch is 16300,loss is 0.7531376481056213 and acc is 0.6733333333333333, learning_Rate is 0.05780680964217585\n",
            "epoch is 16400,loss is 0.752568244934082 and acc is 0.6733333333333333, learning_Rate is 0.05747456750387953\n",
            "epoch is 16500,loss is 0.751996636390686 and acc is 0.67, learning_Rate is 0.05714612263557918\n",
            "epoch is 16600,loss is 0.7514414191246033 and acc is 0.6733333333333333, learning_Rate is 0.05682141030740383\n",
            "epoch is 16700,loss is 0.750869870185852 and acc is 0.67, learning_Rate is 0.056500367252387135\n",
            "epoch is 16800,loss is 0.7503198981285095 and acc is 0.6733333333333333, learning_Rate is 0.05618293162537221\n",
            "epoch is 16900,loss is 0.7497773170471191 and acc is 0.6733333333333333, learning_Rate is 0.055869042963294036\n",
            "epoch is 17000,loss is 0.7492212057113647 and acc is 0.6733333333333333, learning_Rate is 0.055558642146785936\n",
            "epoch is 17100,loss is 0.7486835718154907 and acc is 0.6733333333333333, learning_Rate is 0.05525167136305873\n",
            "epoch is 17200,loss is 0.7481580376625061 and acc is 0.6733333333333333, learning_Rate is 0.05494807407000384\n",
            "epoch is 17300,loss is 0.7476102113723755 and acc is 0.6733333333333333, learning_Rate is 0.0546477949614733\n",
            "epoch is 17400,loss is 0.7470812201499939 and acc is 0.6733333333333333, learning_Rate is 0.05435077993369205\n",
            "epoch is 17500,loss is 0.7465240359306335 and acc is 0.6766666666666666, learning_Rate is 0.05405697605275961\n",
            "epoch is 17600,loss is 0.7459583282470703 and acc is 0.6766666666666666, learning_Rate is 0.05376633152320017\n",
            "epoch is 17700,loss is 0.7454013824462891 and acc is 0.6766666666666666, learning_Rate is 0.05347879565752179\n",
            "epoch is 17800,loss is 0.7448453307151794 and acc is 0.6766666666666666, learning_Rate is 0.05319431884674717\n",
            "epoch is 17900,loss is 0.7442996501922607 and acc is 0.6766666666666666, learning_Rate is 0.05291285253187999\n",
            "epoch is 18000,loss is 0.7437447309494019 and acc is 0.6766666666666666, learning_Rate is 0.05263434917627244\n",
            "epoch is 18100,loss is 0.7432130575180054 and acc is 0.6766666666666666, learning_Rate is 0.05235876223886067\n",
            "epoch is 18200,loss is 0.7426977753639221 and acc is 0.6766666666666666, learning_Rate is 0.052086046148236885\n",
            "epoch is 18300,loss is 0.7421917915344238 and acc is 0.6766666666666666, learning_Rate is 0.05181615627752734\n",
            "epoch is 18400,loss is 0.7416941523551941 and acc is 0.6766666666666666, learning_Rate is 0.05154904892004742\n",
            "epoch is 18500,loss is 0.7412059307098389 and acc is 0.6766666666666666, learning_Rate is 0.051284681265705935\n",
            "epoch is 18600,loss is 0.7407248616218567 and acc is 0.6766666666666666, learning_Rate is 0.05102301137813154\n",
            "epoch is 18700,loss is 0.740232527256012 and acc is 0.6766666666666666, learning_Rate is 0.050763998172496064\n",
            "epoch is 18800,loss is 0.7397572994232178 and acc is 0.68, learning_Rate is 0.0505076013940098\n",
            "epoch is 18900,loss is 0.7392784953117371 and acc is 0.68, learning_Rate is 0.05025378159706518\n",
            "epoch is 19000,loss is 0.7388120889663696 and acc is 0.68, learning_Rate is 0.050002500125006254\n",
            "epoch is 19100,loss is 0.7383499145507812 and acc is 0.68, learning_Rate is 0.04975371909050202\n",
            "epoch is 19200,loss is 0.7378758788108826 and acc is 0.68, learning_Rate is 0.04950740135650279\n",
            "epoch is 19300,loss is 0.7374096512794495 and acc is 0.68, learning_Rate is 0.0492635105177595\n",
            "epoch is 19400,loss is 0.7369496822357178 and acc is 0.68, learning_Rate is 0.049022010882886415\n",
            "epoch is 19500,loss is 0.7364941239356995 and acc is 0.68, learning_Rate is 0.048782867456949125\n",
            "epoch is 19600,loss is 0.7360366582870483 and acc is 0.68, learning_Rate is 0.048546045924559446\n",
            "epoch is 19700,loss is 0.7355840802192688 and acc is 0.68, learning_Rate is 0.04831151263346055\n",
            "epoch is 19800,loss is 0.735134482383728 and acc is 0.6833333333333333, learning_Rate is 0.04807923457858551\n",
            "epoch is 19900,loss is 0.7346931099891663 and acc is 0.6833333333333333, learning_Rate is 0.047849179386573515\n",
            "epoch is 20000,loss is 0.7342530488967896 and acc is 0.6833333333333333, learning_Rate is 0.047621315300728606\n"
          ],
          "name": "stdout"
        }
      ]
    },
    {
      "cell_type": "code",
      "metadata": {
        "id": "hBvwbyHD5UTp",
        "colab": {
          "base_uri": "https://localhost:8080/"
        },
        "outputId": "230c41e3-c773-431a-dda9-9f8dd1a04c35"
      },
      "source": [
        "\r\n",
        "X, y = spiral_data(samples=100, classes=3)\r\n",
        "\r\n",
        "dense1 = Dense(2,64)\r\n",
        "\r\n",
        "activation1 = ActivationRelu()\r\n",
        "\r\n",
        "dense2 = Dense(64,3)\r\n",
        "\r\n",
        "activation2 = Softmax_Activation_Crossentropy()\r\n",
        "\r\n",
        "optimizers = SGD_Momentum(rate_decay=1e-3,momentum=0.5)\r\n",
        "for epoch in range(20001):\r\n",
        "  dense1.forward(X)\r\n",
        "\r\n",
        "  activation1.forward(dense1.output)\r\n",
        "\r\n",
        "  dense2.forward(activation1.output)\r\n",
        "\r\n",
        "  loss = activation2.forward(dense2.output,y)\r\n",
        "\r\n",
        "  prediction = np.argmax(activation2.output,axis=1)\r\n",
        "\r\n",
        "  acc = np.mean(prediction==y)\r\n",
        "\r\n",
        "  if not epoch % 100 :\r\n",
        "    print('epoch is {},loss is {} and acc is {}, learning_Rate is {}'.format(epoch,loss,acc,optimizers.current_learning_rate))\r\n",
        "\r\n",
        "  activation2.backward(activation2.output,y)\r\n",
        "\r\n",
        "  dense2.backward(activation2.dinputs)\r\n",
        "\r\n",
        "  activation1.backward(dense2.dinputs)\r\n",
        "\r\n",
        "  dense1.backward(activation1.drelu)\r\n",
        "\r\n",
        "  optimizers.update_learning_rate()\r\n",
        "  optimizers.update_params(dense1)\r\n",
        "  optimizers.update_params(dense2)\r\n",
        "  optimizers.update_iterations()\r\n"
      ],
      "execution_count": null,
      "outputs": [
        {
          "output_type": "stream",
          "text": [
            "epoch is 0,loss is 1.0985819101333618 and acc is 0.36666666666666664, learning_Rate is 1\n",
            "epoch is 100,loss is 1.0722851753234863 and acc is 0.43666666666666665, learning_Rate is 0.9099181073703367\n",
            "epoch is 200,loss is 1.0700246095657349 and acc is 0.41333333333333333, learning_Rate is 0.8340283569641367\n",
            "epoch is 300,loss is 1.0694432258605957 and acc is 0.41, learning_Rate is 0.7698229407236336\n",
            "epoch is 400,loss is 1.0681352615356445 and acc is 0.41, learning_Rate is 0.7147962830593281\n",
            "epoch is 500,loss is 1.0644092559814453 and acc is 0.41, learning_Rate is 0.66711140760507\n",
            "epoch is 600,loss is 1.0551961660385132 and acc is 0.4066666666666667, learning_Rate is 0.6253908692933083\n",
            "epoch is 700,loss is 1.0403854846954346 and acc is 0.4066666666666667, learning_Rate is 0.5885815185403178\n",
            "epoch is 800,loss is 1.0252550840377808 and acc is 0.42, learning_Rate is 0.5558643690939411\n",
            "epoch is 900,loss is 1.008949637413025 and acc is 0.43666666666666665, learning_Rate is 0.526592943654555\n",
            "epoch is 1000,loss is 0.9879917502403259 and acc is 0.4766666666666667, learning_Rate is 0.5002501250625312\n",
            "epoch is 1100,loss is 0.9652838110923767 and acc is 0.47333333333333333, learning_Rate is 0.4764173415912339\n",
            "epoch is 1200,loss is 0.9444712400436401 and acc is 0.5066666666666667, learning_Rate is 0.45475216007276037\n",
            "epoch is 1300,loss is 0.9267010688781738 and acc is 0.52, learning_Rate is 0.43497172683775553\n",
            "epoch is 1400,loss is 0.9113975167274475 and acc is 0.5366666666666666, learning_Rate is 0.4168403501458941\n",
            "epoch is 1500,loss is 0.8955409526824951 and acc is 0.55, learning_Rate is 0.4001600640256102\n",
            "epoch is 1600,loss is 0.8786675930023193 and acc is 0.5766666666666667, learning_Rate is 0.3847633705271258\n",
            "epoch is 1700,loss is 0.8681803345680237 and acc is 0.56, learning_Rate is 0.3705075954057058\n",
            "epoch is 1800,loss is 0.8525087833404541 and acc is 0.6066666666666667, learning_Rate is 0.35727045373347627\n",
            "epoch is 1900,loss is 0.8388826251029968 and acc is 0.61, learning_Rate is 0.3449465332873405\n",
            "epoch is 2000,loss is 0.823672354221344 and acc is 0.62, learning_Rate is 0.33344448149383127\n",
            "epoch is 2100,loss is 0.8094397187232971 and acc is 0.63, learning_Rate is 0.32268473701193934\n",
            "epoch is 2200,loss is 0.7978268265724182 and acc is 0.6433333333333333, learning_Rate is 0.31259768677711786\n",
            "epoch is 2300,loss is 0.784013032913208 and acc is 0.64, learning_Rate is 0.3031221582297666\n",
            "epoch is 2400,loss is 0.7689192891120911 and acc is 0.65, learning_Rate is 0.29420417769932333\n",
            "epoch is 2500,loss is 0.7525371313095093 and acc is 0.6633333333333333, learning_Rate is 0.2857959416976279\n",
            "epoch is 2600,loss is 0.7413740158081055 and acc is 0.67, learning_Rate is 0.2778549597110308\n",
            "epoch is 2700,loss is 0.727033793926239 and acc is 0.6766666666666666, learning_Rate is 0.2703433360367667\n",
            "epoch is 2800,loss is 0.7145024538040161 and acc is 0.6866666666666666, learning_Rate is 0.26322716504343247\n",
            "epoch is 2900,loss is 0.7032684087753296 and acc is 0.6966666666666667, learning_Rate is 0.25647601949217746\n",
            "epoch is 3000,loss is 0.694071352481842 and acc is 0.7066666666666667, learning_Rate is 0.25006251562890724\n",
            "epoch is 3100,loss is 0.6844810843467712 and acc is 0.71, learning_Rate is 0.2439619419370578\n",
            "epoch is 3200,loss is 0.6750804781913757 and acc is 0.71, learning_Rate is 0.23815194093831865\n",
            "epoch is 3300,loss is 0.6660792827606201 and acc is 0.7233333333333334, learning_Rate is 0.23261223540358225\n",
            "epoch is 3400,loss is 0.6568670868873596 and acc is 0.7333333333333333, learning_Rate is 0.22732439190725165\n",
            "epoch is 3500,loss is 0.6492347717285156 and acc is 0.7333333333333333, learning_Rate is 0.22227161591464767\n",
            "epoch is 3600,loss is 0.6407888531684875 and acc is 0.74, learning_Rate is 0.21743857360295715\n",
            "epoch is 3700,loss is 0.6331870555877686 and acc is 0.7433333333333333, learning_Rate is 0.21281123643328367\n",
            "epoch is 3800,loss is 0.6244915723800659 and acc is 0.7433333333333333, learning_Rate is 0.20837674515524068\n",
            "epoch is 3900,loss is 0.6193568706512451 and acc is 0.74, learning_Rate is 0.20412329046744235\n",
            "epoch is 4000,loss is 0.612761914730072 and acc is 0.7466666666666667, learning_Rate is 0.2000400080016003\n",
            "epoch is 4100,loss is 0.6065987348556519 and acc is 0.7466666666666667, learning_Rate is 0.19611688566385566\n",
            "epoch is 4200,loss is 0.5996505618095398 and acc is 0.75, learning_Rate is 0.19234468166955185\n",
            "epoch is 4300,loss is 0.5931307077407837 and acc is 0.75, learning_Rate is 0.18871485185884126\n",
            "epoch is 4400,loss is 0.5892278552055359 and acc is 0.7633333333333333, learning_Rate is 0.18521948508983144\n",
            "epoch is 4500,loss is 0.5819454193115234 and acc is 0.76, learning_Rate is 0.18185124568103292\n",
            "epoch is 4600,loss is 0.6145097017288208 and acc is 0.71, learning_Rate is 0.1786033220217896\n",
            "epoch is 4700,loss is 0.5780497193336487 and acc is 0.7666666666666667, learning_Rate is 0.1754693805930865\n",
            "epoch is 4800,loss is 0.569278359413147 and acc is 0.7766666666666666, learning_Rate is 0.17244352474564578\n",
            "epoch is 4900,loss is 0.5639249682426453 and acc is 0.7766666666666666, learning_Rate is 0.16952025767079165\n",
            "epoch is 5000,loss is 0.5574464201927185 and acc is 0.7833333333333333, learning_Rate is 0.16669444907484582\n",
            "epoch is 5100,loss is 0.5519416928291321 and acc is 0.7933333333333333, learning_Rate is 0.16396130513198884\n",
            "epoch is 5200,loss is 0.5535367727279663 and acc is 0.7666666666666667, learning_Rate is 0.16131634134537828\n",
            "epoch is 5300,loss is 0.5607583522796631 and acc is 0.7633333333333333, learning_Rate is 0.15875535799333226\n",
            "epoch is 5400,loss is 0.5503582954406738 and acc is 0.7833333333333333, learning_Rate is 0.1562744178777934\n",
            "epoch is 5500,loss is 0.5393542647361755 and acc is 0.7866666666666666, learning_Rate is 0.15386982612709646\n",
            "epoch is 5600,loss is 0.5329571962356567 and acc is 0.79, learning_Rate is 0.15153811183512653\n",
            "epoch is 5700,loss is 0.5288791060447693 and acc is 0.7933333333333333, learning_Rate is 0.14927601134497687\n",
            "epoch is 5800,loss is 0.5239934921264648 and acc is 0.79, learning_Rate is 0.14708045300779526\n",
            "epoch is 5900,loss is 0.5198169946670532 and acc is 0.8066666666666666, learning_Rate is 0.14494854326714016\n",
            "epoch is 6000,loss is 0.5158973336219788 and acc is 0.8033333333333333, learning_Rate is 0.1428775539362766\n",
            "epoch is 6100,loss is 0.511676549911499 and acc is 0.8, learning_Rate is 0.1408649105507818\n",
            "epoch is 6200,loss is 0.508873701095581 and acc is 0.8, learning_Rate is 0.13890818169190167\n",
            "epoch is 6300,loss is 0.5066207647323608 and acc is 0.8, learning_Rate is 0.13700506918755992\n",
            "epoch is 6400,loss is 0.5035711526870728 and acc is 0.8033333333333333, learning_Rate is 0.13515339910798757\n",
            "epoch is 6500,loss is 0.5000303387641907 and acc is 0.8033333333333333, learning_Rate is 0.13335111348179757\n",
            "epoch is 6600,loss is 0.4963432848453522 and acc is 0.81, learning_Rate is 0.13159626266614027\n",
            "epoch is 6700,loss is 0.49158069491386414 and acc is 0.81, learning_Rate is 0.12988699831146902\n",
            "epoch is 6800,loss is 0.4880993068218231 and acc is 0.8133333333333334, learning_Rate is 0.12822156686754713\n",
            "epoch is 6900,loss is 0.4851331114768982 and acc is 0.8166666666666667, learning_Rate is 0.126598303582732\n",
            "epoch is 7000,loss is 0.4822831153869629 and acc is 0.8166666666666667, learning_Rate is 0.12501562695336915\n",
            "epoch is 7100,loss is 0.47653859853744507 and acc is 0.82, learning_Rate is 0.12347203358439313\n",
            "epoch is 7200,loss is 0.4730810523033142 and acc is 0.8266666666666667, learning_Rate is 0.12196609342602757\n",
            "epoch is 7300,loss is 0.46943262219429016 and acc is 0.83, learning_Rate is 0.12049644535486204\n",
            "epoch is 7400,loss is 0.4663485288619995 and acc is 0.83, learning_Rate is 0.11906179307060363\n",
            "epoch is 7500,loss is 0.46243906021118164 and acc is 0.83, learning_Rate is 0.11766090128250381\n",
            "epoch is 7600,loss is 0.4587547779083252 and acc is 0.83, learning_Rate is 0.11629259216187929\n",
            "epoch is 7700,loss is 0.4567149877548218 and acc is 0.8333333333333334, learning_Rate is 0.11495574203931487\n",
            "epoch is 7800,loss is 0.4516787827014923 and acc is 0.8333333333333334, learning_Rate is 0.11364927832708263\n",
            "epoch is 7900,loss is 0.4480490982532501 and acc is 0.8333333333333334, learning_Rate is 0.11237217664906168\n",
            "epoch is 8000,loss is 0.44538453221321106 and acc is 0.8366666666666667, learning_Rate is 0.11112345816201799\n",
            "epoch is 8100,loss is 0.44320130348205566 and acc is 0.83, learning_Rate is 0.10990218705352237\n",
            "epoch is 8200,loss is 0.43992045521736145 and acc is 0.8333333333333334, learning_Rate is 0.10870746820306555\n",
            "epoch is 8300,loss is 0.43689534068107605 and acc is 0.8333333333333334, learning_Rate is 0.1075384449940854\n",
            "epoch is 8400,loss is 0.4343522787094116 and acc is 0.8333333333333334, learning_Rate is 0.10639429726566654\n",
            "epoch is 8500,loss is 0.43137991428375244 and acc is 0.8366666666666667, learning_Rate is 0.10527423939362038\n",
            "epoch is 8600,loss is 0.4271961450576782 and acc is 0.84, learning_Rate is 0.10417751849150952\n",
            "epoch is 8700,loss is 0.4233061969280243 and acc is 0.8466666666666667, learning_Rate is 0.10310341272296113\n",
            "epoch is 8800,loss is 0.4204423427581787 and acc is 0.8533333333333334, learning_Rate is 0.1020512297173181\n",
            "epoch is 8900,loss is 0.4174029529094696 and acc is 0.85, learning_Rate is 0.10102030508132134\n",
            "epoch is 9000,loss is 0.4147900938987732 and acc is 0.8466666666666667, learning_Rate is 0.1000100010001\n",
            "epoch is 9100,loss is 0.41227588057518005 and acc is 0.8466666666666667, learning_Rate is 0.09901970492127933\n",
            "epoch is 9200,loss is 0.40997394919395447 and acc is 0.8433333333333334, learning_Rate is 0.09804882831650162\n",
            "epoch is 9300,loss is 0.4074179232120514 and acc is 0.85, learning_Rate is 0.09709680551509856\n",
            "epoch is 9400,loss is 0.40539616346359253 and acc is 0.85, learning_Rate is 0.09616309260505818\n",
            "epoch is 9500,loss is 0.4032837450504303 and acc is 0.85, learning_Rate is 0.09524716639679968\n",
            "epoch is 9600,loss is 0.40124276280403137 and acc is 0.85, learning_Rate is 0.09434852344560807\n",
            "epoch is 9700,loss is 0.39924266934394836 and acc is 0.8533333333333334, learning_Rate is 0.09346667912889055\n",
            "epoch is 9800,loss is 0.39738473296165466 and acc is 0.8533333333333334, learning_Rate is 0.09260116677470137\n",
            "epoch is 9900,loss is 0.3957523703575134 and acc is 0.8533333333333334, learning_Rate is 0.09175153683824203\n",
            "epoch is 10000,loss is 0.39393723011016846 and acc is 0.8533333333333334, learning_Rate is 0.09091735612328393\n",
            "epoch is 10100,loss is 0.39238011837005615 and acc is 0.8533333333333334, learning_Rate is 0.09009820704567979\n",
            "epoch is 10200,loss is 0.3908596932888031 and acc is 0.8533333333333334, learning_Rate is 0.0892936869363336\n",
            "epoch is 10300,loss is 0.3893998861312866 and acc is 0.8533333333333334, learning_Rate is 0.08850340738118417\n",
            "epoch is 10400,loss is 0.38795602321624756 and acc is 0.8566666666666667, learning_Rate is 0.08772699359592946\n",
            "epoch is 10500,loss is 0.38645482063293457 and acc is 0.8566666666666667, learning_Rate is 0.08696408383337681\n",
            "epoch is 10600,loss is 0.38511544466018677 and acc is 0.8566666666666667, learning_Rate is 0.08621432882145012\n",
            "epoch is 10700,loss is 0.3837134838104248 and acc is 0.8566666666666667, learning_Rate is 0.08547739123001966\n",
            "epoch is 10800,loss is 0.38241881132125854 and acc is 0.8566666666666667, learning_Rate is 0.08475294516484448\n",
            "epoch is 10900,loss is 0.3811270296573639 and acc is 0.8566666666666667, learning_Rate is 0.08404067568703252\n",
            "epoch is 11000,loss is 0.3798602819442749 and acc is 0.86, learning_Rate is 0.08334027835652971\n",
            "epoch is 11100,loss is 0.3786526024341583 and acc is 0.8633333333333333, learning_Rate is 0.08265145879824778\n",
            "epoch is 11200,loss is 0.3774968981742859 and acc is 0.8633333333333333, learning_Rate is 0.08197393228953193\n",
            "epoch is 11300,loss is 0.37633392214775085 and acc is 0.8633333333333333, learning_Rate is 0.08130742336775348\n",
            "epoch is 11400,loss is 0.37515100836753845 and acc is 0.8633333333333333, learning_Rate is 0.08065166545689167\n",
            "epoch is 11500,loss is 0.37407663464546204 and acc is 0.8633333333333333, learning_Rate is 0.08000640051204096\n",
            "epoch is 11600,loss is 0.37293732166290283 and acc is 0.8633333333333333, learning_Rate is 0.07937137868084769\n",
            "epoch is 11700,loss is 0.37189945578575134 and acc is 0.8633333333333333, learning_Rate is 0.07874635798094339\n",
            "epoch is 11800,loss is 0.3708359897136688 and acc is 0.8633333333333333, learning_Rate is 0.07813110399249942\n",
            "epoch is 11900,loss is 0.3694155812263489 and acc is 0.8633333333333333, learning_Rate is 0.07752538956508256\n",
            "epoch is 12000,loss is 0.3679625988006592 and acc is 0.8633333333333333, learning_Rate is 0.07692899453804139\n",
            "epoch is 12100,loss is 0.3665575683116913 and acc is 0.8733333333333333, learning_Rate is 0.07634170547370028\n",
            "epoch is 12200,loss is 0.3647244870662689 and acc is 0.87, learning_Rate is 0.07576331540268202\n",
            "epoch is 12300,loss is 0.3636423349380493 and acc is 0.87, learning_Rate is 0.07519362358072036\n",
            "epoch is 12400,loss is 0.3625868558883667 and acc is 0.87, learning_Rate is 0.07463243525636241\n",
            "epoch is 12500,loss is 0.36159276962280273 and acc is 0.87, learning_Rate is 0.07407956144899622\n",
            "epoch is 12600,loss is 0.36059990525245667 and acc is 0.87, learning_Rate is 0.07353481873667181\n",
            "epoch is 12700,loss is 0.3595777750015259 and acc is 0.87, learning_Rate is 0.07299802905321556\n",
            "epoch is 12800,loss is 0.3585244119167328 and acc is 0.87, learning_Rate is 0.07246901949416625\n",
            "epoch is 12900,loss is 0.35740455985069275 and acc is 0.8733333333333333, learning_Rate is 0.07194762213108856\n",
            "epoch is 13000,loss is 0.3563275635242462 and acc is 0.8733333333333333, learning_Rate is 0.07143367383384527\n",
            "epoch is 13100,loss is 0.3552595376968384 and acc is 0.8766666666666667, learning_Rate is 0.07092701610043266\n",
            "epoch is 13200,loss is 0.35414618253707886 and acc is 0.88, learning_Rate is 0.07042749489400663\n",
            "epoch is 13300,loss is 0.35308822989463806 and acc is 0.88, learning_Rate is 0.06993496048674733\n",
            "epoch is 13400,loss is 0.3520689308643341 and acc is 0.88, learning_Rate is 0.06944926731022988\n",
            "epoch is 13500,loss is 0.3511107563972473 and acc is 0.88, learning_Rate is 0.06897027381198703\n",
            "epoch is 13600,loss is 0.350180983543396 and acc is 0.88, learning_Rate is 0.06849784231796699\n",
            "epoch is 13700,loss is 0.34926101565361023 and acc is 0.88, learning_Rate is 0.06803183890060549\n",
            "epoch is 13800,loss is 0.34842509031295776 and acc is 0.88, learning_Rate is 0.06757213325224677\n",
            "epoch is 13900,loss is 0.3476070761680603 and acc is 0.88, learning_Rate is 0.06711859856366198\n",
            "epoch is 14000,loss is 0.346800297498703 and acc is 0.88, learning_Rate is 0.06667111140742715\n",
            "epoch is 14100,loss is 0.3459831774234772 and acc is 0.88, learning_Rate is 0.0662295516259355\n",
            "epoch is 14200,loss is 0.34463492035865784 and acc is 0.88, learning_Rate is 0.06579380222383052\n",
            "epoch is 14300,loss is 0.34354570508003235 and acc is 0.8766666666666667, learning_Rate is 0.06536374926465782\n",
            "epoch is 14400,loss is 0.34259921312332153 and acc is 0.8766666666666667, learning_Rate is 0.06493928177154361\n",
            "epoch is 14500,loss is 0.34168702363967896 and acc is 0.8766666666666667, learning_Rate is 0.06452029163171817\n",
            "epoch is 14600,loss is 0.3408351242542267 and acc is 0.8833333333333333, learning_Rate is 0.06410667350471184\n",
            "epoch is 14700,loss is 0.34002426266670227 and acc is 0.8833333333333333, learning_Rate is 0.0636983247340595\n",
            "epoch is 14800,loss is 0.33921700716018677 and acc is 0.8833333333333333, learning_Rate is 0.06329514526235838\n",
            "epoch is 14900,loss is 0.3384312093257904 and acc is 0.8833333333333333, learning_Rate is 0.06289703754953141\n",
            "epoch is 15000,loss is 0.33766910433769226 and acc is 0.8833333333333333, learning_Rate is 0.06250390649415588\n",
            "epoch is 15100,loss is 0.33692666888237 and acc is 0.8833333333333333, learning_Rate is 0.06211565935772408\n",
            "epoch is 15200,loss is 0.3361600935459137 and acc is 0.8833333333333333, learning_Rate is 0.061732205691709376\n",
            "epoch is 15300,loss is 0.3354046046733856 and acc is 0.8833333333333333, learning_Rate is 0.061353457267317016\n",
            "epoch is 15400,loss is 0.33452752232551575 and acc is 0.8833333333333333, learning_Rate is 0.06097932800780535\n",
            "epoch is 15500,loss is 0.33371683955192566 and acc is 0.8833333333333333, learning_Rate is 0.060609733923268065\n",
            "epoch is 15600,loss is 0.33295533061027527 and acc is 0.8833333333333333, learning_Rate is 0.060244593047773964\n",
            "epoch is 15700,loss is 0.3321937918663025 and acc is 0.88, learning_Rate is 0.0598838253787652\n",
            "epoch is 15800,loss is 0.3314536511898041 and acc is 0.88, learning_Rate is 0.059527352818620156\n",
            "epoch is 15900,loss is 0.33073267340660095 and acc is 0.8833333333333333, learning_Rate is 0.05917509911829102\n",
            "epoch is 16000,loss is 0.3300307095050812 and acc is 0.8833333333333333, learning_Rate is 0.058826989822930754\n",
            "epoch is 16100,loss is 0.3293536901473999 and acc is 0.8833333333333333, learning_Rate is 0.058482952219428036\n",
            "epoch is 16200,loss is 0.3286837339401245 and acc is 0.8833333333333333, learning_Rate is 0.05814291528577242\n",
            "epoch is 16300,loss is 0.328014612197876 and acc is 0.8866666666666667, learning_Rate is 0.05780680964217585\n",
            "epoch is 16400,loss is 0.32736822962760925 and acc is 0.8866666666666667, learning_Rate is 0.05747456750387953\n",
            "epoch is 16500,loss is 0.32672616839408875 and acc is 0.8866666666666667, learning_Rate is 0.05714612263557918\n",
            "epoch is 16600,loss is 0.32609257102012634 and acc is 0.8866666666666667, learning_Rate is 0.05682141030740383\n",
            "epoch is 16700,loss is 0.3254590630531311 and acc is 0.8866666666666667, learning_Rate is 0.056500367252387135\n",
            "epoch is 16800,loss is 0.32484278082847595 and acc is 0.8866666666666667, learning_Rate is 0.05618293162537221\n",
            "epoch is 16900,loss is 0.32422617077827454 and acc is 0.8866666666666667, learning_Rate is 0.055869042963294036\n",
            "epoch is 17000,loss is 0.3236096203327179 and acc is 0.8866666666666667, learning_Rate is 0.055558642146785936\n",
            "epoch is 17100,loss is 0.32298752665519714 and acc is 0.89, learning_Rate is 0.05525167136305873\n",
            "epoch is 17200,loss is 0.3223704993724823 and acc is 0.89, learning_Rate is 0.05494807407000384\n",
            "epoch is 17300,loss is 0.32175299525260925 and acc is 0.89, learning_Rate is 0.0546477949614733\n",
            "epoch is 17400,loss is 0.32113489508628845 and acc is 0.89, learning_Rate is 0.05435077993369205\n",
            "epoch is 17500,loss is 0.32054778933525085 and acc is 0.89, learning_Rate is 0.05405697605275961\n",
            "epoch is 17600,loss is 0.31998053193092346 and acc is 0.89, learning_Rate is 0.05376633152320017\n",
            "epoch is 17700,loss is 0.3194044530391693 and acc is 0.89, learning_Rate is 0.05347879565752179\n",
            "epoch is 17800,loss is 0.3188484311103821 and acc is 0.89, learning_Rate is 0.05319431884674717\n",
            "epoch is 17900,loss is 0.3182903528213501 and acc is 0.89, learning_Rate is 0.05291285253187999\n",
            "epoch is 18000,loss is 0.31771233677864075 and acc is 0.89, learning_Rate is 0.05263434917627244\n",
            "epoch is 18100,loss is 0.31706055998802185 and acc is 0.89, learning_Rate is 0.05235876223886067\n",
            "epoch is 18200,loss is 0.3165101110935211 and acc is 0.89, learning_Rate is 0.052086046148236885\n",
            "epoch is 18300,loss is 0.31597229838371277 and acc is 0.89, learning_Rate is 0.05181615627752734\n",
            "epoch is 18400,loss is 0.3154459297657013 and acc is 0.89, learning_Rate is 0.05154904892004742\n",
            "epoch is 18500,loss is 0.314907431602478 and acc is 0.89, learning_Rate is 0.051284681265705935\n",
            "epoch is 18600,loss is 0.3143664598464966 and acc is 0.89, learning_Rate is 0.05102301137813154\n",
            "epoch is 18700,loss is 0.3138290345668793 and acc is 0.89, learning_Rate is 0.050763998172496064\n",
            "epoch is 18800,loss is 0.3133033514022827 and acc is 0.89, learning_Rate is 0.0505076013940098\n",
            "epoch is 18900,loss is 0.31278863549232483 and acc is 0.89, learning_Rate is 0.05025378159706518\n",
            "epoch is 19000,loss is 0.3122793436050415 and acc is 0.89, learning_Rate is 0.050002500125006254\n",
            "epoch is 19100,loss is 0.31177979707717896 and acc is 0.8933333333333333, learning_Rate is 0.04975371909050202\n",
            "epoch is 19200,loss is 0.31129154562950134 and acc is 0.8933333333333333, learning_Rate is 0.04950740135650279\n",
            "epoch is 19300,loss is 0.3108011484146118 and acc is 0.8933333333333333, learning_Rate is 0.0492635105177595\n",
            "epoch is 19400,loss is 0.3103165328502655 and acc is 0.8933333333333333, learning_Rate is 0.049022010882886415\n",
            "epoch is 19500,loss is 0.3098331689834595 and acc is 0.8933333333333333, learning_Rate is 0.048782867456949125\n",
            "epoch is 19600,loss is 0.3093582093715668 and acc is 0.8933333333333333, learning_Rate is 0.048546045924559446\n",
            "epoch is 19700,loss is 0.3088866174221039 and acc is 0.8933333333333333, learning_Rate is 0.04831151263346055\n",
            "epoch is 19800,loss is 0.3084191381931305 and acc is 0.8933333333333333, learning_Rate is 0.04807923457858551\n",
            "epoch is 19900,loss is 0.30795222520828247 and acc is 0.8933333333333333, learning_Rate is 0.047849179386573515\n",
            "epoch is 20000,loss is 0.3074936270713806 and acc is 0.8933333333333333, learning_Rate is 0.047621315300728606\n"
          ],
          "name": "stdout"
        }
      ]
    },
    {
      "cell_type": "code",
      "metadata": {
        "id": "SChWlYdleBbu"
      },
      "source": [
        "class ADAGRAD:\r\n",
        "\r\n",
        "  def __init__(self,learning_rate=1,rate_decay=0.,epsilon=1e-7):\r\n",
        "    self.learning_rate = learning_rate\r\n",
        "    self.rate_decay = rate_decay\r\n",
        "    self.epsilon = epsilon\r\n",
        "    self.iterations = 0\r\n",
        "    self.current_learning_rate = learning_rate\r\n",
        "\r\n",
        "  def update_learning_rate(self):\r\n",
        "    self.current_learning_rate = self.learning_rate * (1. / (1. + self.rate_decay * self.iterations))\r\n",
        "\r\n",
        "  def update_params(self,layer):\r\n",
        "    if not hasattr(layer,'previous_weights'):\r\n",
        "      layer.previous_weights = np.zeros_like(layer.weights)\r\n",
        "      layer.previous_biases = np.zeros_like(layer.biases)\r\n",
        "    \r\n",
        "  \r\n",
        "    layer.previous_weights += layer.dweights ** 2\r\n",
        "    layer.previous_biases += layer.dbiases ** 2\r\n",
        "\r\n",
        "    layer.weights -= self.current_learning_rate * layer.dweights / (np.sqrt(layer.previous_weights) + self.epsilon)\r\n",
        "    layer.biases -= self.current_learning_rate * layer.dbiases / (np.sqrt(layer.previous_biases) + self.epsilon)\r\n",
        "\r\n",
        "  def update_iterations(self):\r\n",
        "    self.iterations  += 1"
      ],
      "execution_count": null,
      "outputs": []
    },
    {
      "cell_type": "code",
      "metadata": {
        "colab": {
          "base_uri": "https://localhost:8080/"
        },
        "id": "D4ktfJpugfNH",
        "outputId": "41a84845-485d-4f5e-becf-e4451bb4558d"
      },
      "source": [
        "\r\n",
        "X, y = spiral_data(samples=100, classes=3)\r\n",
        "\r\n",
        "dense1 = Dense(2,64)\r\n",
        "\r\n",
        "activation1 = ActivationRelu()\r\n",
        "\r\n",
        "dense2 = Dense(64,3)\r\n",
        "\r\n",
        "activation2 = Softmax_Activation_Crossentropy()\r\n",
        "\r\n",
        "optimizers = ADAGRAD(learning_rate = 1,rate_decay=1e-4)\r\n",
        "for epoch in range(10001):\r\n",
        "  dense1.forward(X)\r\n",
        "\r\n",
        "  activation1.forward(dense1.output)\r\n",
        "\r\n",
        "  dense2.forward(activation1.output)\r\n",
        "\r\n",
        "  loss = activation2.forward(dense2.output,y)\r\n",
        "\r\n",
        "  prediction = np.argmax(activation2.output,axis=1)\r\n",
        "\r\n",
        "  acc = np.mean(prediction==y)\r\n",
        "\r\n",
        "  if not epoch % 500 :\r\n",
        "    print('epoch is {},loss is {} and acc is {}, learning_Rate is {}'.format(epoch,loss,acc,optimizers.current_learning_rate))\r\n",
        "\r\n",
        "  activation2.backward(activation2.output,y)\r\n",
        "\r\n",
        "  dense2.backward(activation2.dinputs)\r\n",
        "\r\n",
        "  activation1.backward(dense2.dinputs)\r\n",
        "\r\n",
        "  dense1.backward(activation1.drelu)\r\n",
        "\r\n",
        "  optimizers.update_learning_rate()\r\n",
        "  optimizers.update_params(dense1)\r\n",
        "  optimizers.update_params(dense2)\r\n",
        "  optimizers.update_iterations()\r\n"
      ],
      "execution_count": null,
      "outputs": [
        {
          "output_type": "stream",
          "text": [
            "epoch is 0,loss is 1.0986255407333374 and acc is 0.2733333333333333, learning_Rate is 1\n",
            "epoch is 500,loss is 0.9134111404418945 and acc is 0.51, learning_Rate is 0.9524716639679969\n",
            "epoch is 1000,loss is 0.8481355905532837 and acc is 0.5266666666666666, learning_Rate is 0.9091735612328392\n",
            "epoch is 1500,loss is 0.8075557351112366 and acc is 0.57, learning_Rate is 0.8696408383337683\n",
            "epoch is 2000,loss is 0.777934730052948 and acc is 0.6066666666666667, learning_Rate is 0.8334027835652972\n",
            "epoch is 2500,loss is 0.7559630274772644 and acc is 0.6266666666666667, learning_Rate is 0.8000640051204096\n",
            "epoch is 3000,loss is 0.7528643012046814 and acc is 0.5766666666666667, learning_Rate is 0.7692899453804138\n",
            "epoch is 3500,loss is 0.7370365262031555 and acc is 0.6233333333333333, learning_Rate is 0.7407956144899621\n",
            "epoch is 4000,loss is 0.7250846028327942 and acc is 0.6166666666666667, learning_Rate is 0.7143367383384527\n",
            "epoch is 4500,loss is 0.7149375677108765 and acc is 0.6333333333333333, learning_Rate is 0.6897027381198704\n",
            "epoch is 5000,loss is 0.7073140740394592 and acc is 0.63, learning_Rate is 0.6667111140742716\n",
            "epoch is 5500,loss is 0.698095977306366 and acc is 0.6433333333333333, learning_Rate is 0.6452029163171817\n",
            "epoch is 6000,loss is 0.6936862468719482 and acc is 0.6166666666666667, learning_Rate is 0.6250390649415589\n",
            "epoch is 6500,loss is 0.6881486177444458 and acc is 0.6233333333333333, learning_Rate is 0.6060973392326807\n",
            "epoch is 7000,loss is 0.6844022870063782 and acc is 0.6233333333333333, learning_Rate is 0.5882698982293076\n",
            "epoch is 7500,loss is 0.6800320148468018 and acc is 0.6466666666666666, learning_Rate is 0.5714612263557918\n",
            "epoch is 8000,loss is 0.6760106682777405 and acc is 0.6433333333333333, learning_Rate is 0.5555864214678593\n",
            "epoch is 8500,loss is 0.6722920536994934 and acc is 0.6366666666666667, learning_Rate is 0.5405697605275961\n",
            "epoch is 9000,loss is 0.6684922575950623 and acc is 0.6433333333333333, learning_Rate is 0.5263434917627243\n",
            "epoch is 9500,loss is 0.6647104620933533 and acc is 0.66, learning_Rate is 0.5128468126570593\n",
            "epoch is 10000,loss is 0.6561006307601929 and acc is 0.67, learning_Rate is 0.5000250012500626\n"
          ],
          "name": "stdout"
        }
      ]
    },
    {
      "cell_type": "code",
      "metadata": {
        "id": "sGBl9I8_jrew"
      },
      "source": [
        "class ADAM:\r\n",
        "\r\n",
        "  def __init__(self,learning_rate=0.01,decay_rate=0.,epsilon=1e-7,beta1=0.9,beta2=0.999):\r\n",
        "    self.learning_rate = learning_rate\r\n",
        "    self.decay_rate = decay_rate\r\n",
        "    self.epsilon = epsilon \r\n",
        "    self.beta1 = beta1\r\n",
        "    self.beta2 = beta2\r\n",
        "    self.iterations = 0\r\n",
        "    self.current_learning_rate = learning_rate\r\n",
        "\r\n",
        "  def update_learning_rate(self):\r\n",
        "\r\n",
        "    self.current_learning_rate = self.learning_rate * (1. / (1. + self.decay_rate * self.iterations))\r\n",
        "\r\n",
        "  def update_params(self,layer):\r\n",
        "    if not hasattr(layer,'previous_weights'):\r\n",
        "      layer.previous_weights = np.zeros_like(layer.weights)\r\n",
        "      layer.previous_biases = np.zeros_like(layer.biases)\r\n",
        "      layer.weight_momentums = np.zeros_like(layer.weights)\r\n",
        "      layer.bias_momentums = np.zeros_like(layer.biases)\r\n",
        "\r\n",
        "    layer.weight_momentums = self.beta1 * layer.weight_momentums + (1-self.beta1) * layer.dweights\r\n",
        "    layer.bias_momentums = self.beta1 * layer.bias_momentums + (1 -self.beta1) * layer.dbiases\r\n",
        "    \r\n",
        "    weight_momentums_hat = layer.weight_momentums / ( 1 - self.beta1 ** (self.iterations + 1))\r\n",
        "    bias_momentums_hat = layer.bias_momentums / ( 1 - self.beta1 ** (self.iterations + 1))\r\n",
        "\r\n",
        "    layer.previous_weights = self.beta2 * layer.previous_weights + (1 - self.beta2) * layer.dweights ** 2\r\n",
        "    layer.previous_biases = self.beta2 * layer.previous_biases + (1 - self.beta2) * layer.dbiases ** 2\r\n",
        "\r\n",
        "    previous_weights_hat = layer.previous_weights / ( 1 - self.beta2 ** (self.iterations + 1))\r\n",
        "    previous_biases_hat = layer.previous_biases / ( 1 - self.beta2 ** (self.iterations + 1))\r\n",
        "\r\n",
        "    layer.weights -= self.current_learning_rate * weight_momentums_hat / (np.sqrt(previous_weights_hat) + self.epsilon)\r\n",
        "    layer.biases -= self.current_learning_rate * bias_momentums_hat / (np.sqrt(previous_biases_hat) + self.epsilon)\r\n",
        "\r\n",
        "\r\n",
        "  def update_iterations(self):\r\n",
        "    self.iterations += 1\r\n",
        "\r\n",
        "\r\n"
      ],
      "execution_count": 8,
      "outputs": []
    },
    {
      "cell_type": "code",
      "metadata": {
        "colab": {
          "base_uri": "https://localhost:8080/"
        },
        "id": "ZnvUWpCVfsUv",
        "outputId": "b8b1ae9b-c2e8-47f0-9dc1-de9b041256d5"
      },
      "source": [
        "\r\n",
        "X, y = spiral_data(samples=100, classes=3)\r\n",
        "\r\n",
        "dense1 = Dense(2,64)\r\n",
        "\r\n",
        "activation1 = ActivationRelu()\r\n",
        "\r\n",
        "dense2 = Dense(64,3)\r\n",
        "\r\n",
        "activation2 = Softmax_Activation_Crossentropy()\r\n",
        "\r\n",
        "optimizers = ADAM(learning_rate=0.02,decay_rate=1e-5)\r\n",
        "for epoch in range(10001):\r\n",
        "  dense1.forward(X)\r\n",
        "\r\n",
        "  activation1.forward(dense1.output)\r\n",
        "\r\n",
        "  dense2.forward(activation1.output)\r\n",
        "\r\n",
        "  loss = activation2.forward(dense2.output,y)\r\n",
        "\r\n",
        "  prediction = np.argmax(activation2.output,axis=1)\r\n",
        "\r\n",
        "  acc = np.mean(prediction==y)\r\n",
        "\r\n",
        "  if not epoch % 500 :\r\n",
        "    print('epoch is {},loss is {} and acc is {}, learning_Rate is {}'.format(epoch,loss,acc,optimizers.current_learning_rate))\r\n",
        "\r\n",
        "  activation2.backward(activation2.output,y)\r\n",
        "\r\n",
        "  dense2.backward(activation2.dinputs)\r\n",
        "\r\n",
        "  activation1.backward(dense2.dinputs)\r\n",
        "\r\n",
        "  dense1.backward(activation1.drelu)\r\n",
        "\r\n",
        "  optimizers.update_learning_rate()\r\n",
        "  optimizers.update_params(dense1)\r\n",
        "  optimizers.update_params(dense2)\r\n",
        "  optimizers.update_iterations()\r\n"
      ],
      "execution_count": null,
      "outputs": [
        {
          "output_type": "stream",
          "text": [
            "epoch is 0,loss is 1.0985994338989258 and acc is 0.31333333333333335, learning_Rate is 0.02\n",
            "epoch is 500,loss is 0.5556354522705078 and acc is 0.7533333333333333, learning_Rate is 0.01990069552930875\n",
            "epoch is 1000,loss is 0.5088706612586975 and acc is 0.78, learning_Rate is 0.019802176259170884\n",
            "epoch is 1500,loss is 0.48465219140052795 and acc is 0.7866666666666666, learning_Rate is 0.019704627631799327\n",
            "epoch is 2000,loss is 0.473643958568573 and acc is 0.79, learning_Rate is 0.019608035372895814\n",
            "epoch is 2500,loss is 0.46621784567832947 and acc is 0.79, learning_Rate is 0.019512385486687673\n",
            "epoch is 3000,loss is 0.46129754185676575 and acc is 0.7833333333333333, learning_Rate is 0.01941766424916747\n",
            "epoch is 3500,loss is 0.4574313759803772 and acc is 0.7966666666666666, learning_Rate is 0.019323858201528515\n",
            "epoch is 4000,loss is 0.45426371693611145 and acc is 0.7966666666666666, learning_Rate is 0.019230954143789846\n",
            "epoch is 4500,loss is 0.4529135525226593 and acc is 0.7933333333333333, learning_Rate is 0.0191389391286041\n",
            "epoch is 5000,loss is 0.45148807764053345 and acc is 0.7966666666666666, learning_Rate is 0.01904780045524243\n",
            "epoch is 5500,loss is 0.4462719261646271 and acc is 0.7933333333333333, learning_Rate is 0.018957525663750367\n",
            "epoch is 6000,loss is 0.4458947777748108 and acc is 0.7966666666666666, learning_Rate is 0.018868102529269144\n",
            "epoch is 6500,loss is 0.44390422105789185 and acc is 0.7966666666666666, learning_Rate is 0.01877951905651696\n",
            "epoch is 7000,loss is 0.4423394799232483 and acc is 0.7933333333333333, learning_Rate is 0.018691763474424996\n",
            "epoch is 7500,loss is 0.4403839111328125 and acc is 0.8066666666666666, learning_Rate is 0.018604824230923075\n",
            "epoch is 8000,loss is 0.43788549304008484 and acc is 0.8, learning_Rate is 0.01851868998787026\n",
            "epoch is 8500,loss is 0.43554869294166565 and acc is 0.7933333333333333, learning_Rate is 0.018433349616125496\n",
            "epoch is 9000,loss is 0.4378555715084076 and acc is 0.8, learning_Rate is 0.018348792190754044\n",
            "epoch is 9500,loss is 0.4323051869869232 and acc is 0.8033333333333333, learning_Rate is 0.018265006986365174\n",
            "epoch is 10000,loss is 0.43018385767936707 and acc is 0.8, learning_Rate is 0.018181983472577025\n"
          ],
          "name": "stdout"
        }
      ]
    },
    {
      "cell_type": "code",
      "metadata": {
        "colab": {
          "base_uri": "https://localhost:8080/"
        },
        "id": "GfwCVoucfwTt",
        "outputId": "76cc5e63-073d-42aa-de51-6a70f5c07fb0"
      },
      "source": [
        "\r\n",
        "X, y = spiral_data(samples=100, classes=3)\r\n",
        "\r\n",
        "dense1 = Dense(2,64)\r\n",
        "\r\n",
        "activation1 = ActivationRelu()\r\n",
        "\r\n",
        "dense2 = Dense(64,3)\r\n",
        "\r\n",
        "activation2 = Softmax_Activation_Crossentropy()\r\n",
        "\r\n",
        "optimizers = ADAM(learning_rate=0.05,decay_rate=5e-7)\r\n",
        "for epoch in range(10001):\r\n",
        "  dense1.forward(X)\r\n",
        "\r\n",
        "  activation1.forward(dense1.output)\r\n",
        "\r\n",
        "  dense2.forward(activation1.output)\r\n",
        "\r\n",
        "  loss = activation2.forward(dense2.output,y)\r\n",
        "\r\n",
        "  prediction = np.argmax(activation2.output,axis=1)\r\n",
        "\r\n",
        "  acc = np.mean(prediction==y)\r\n",
        "\r\n",
        "  if not epoch % 500 :\r\n",
        "    print('epoch is {},loss is {} and acc is {}, learning_Rate is {}'.format(epoch,loss,acc,optimizers.current_learning_rate))\r\n",
        "\r\n",
        "  activation2.backward(activation2.output,y)\r\n",
        "\r\n",
        "  dense2.backward(activation2.dinputs)\r\n",
        "\r\n",
        "  activation1.backward(dense2.dinputs)\r\n",
        "\r\n",
        "  dense1.backward(activation1.drelu)\r\n",
        "\r\n",
        "  optimizers.update_learning_rate()\r\n",
        "  optimizers.update_params(dense1)\r\n",
        "  optimizers.update_params(dense2)\r\n",
        "  optimizers.update_iterations()\r\n"
      ],
      "execution_count": null,
      "outputs": [
        {
          "output_type": "stream",
          "text": [
            "epoch is 0,loss is 1.0985811948776245 and acc is 0.35333333333333333, learning_Rate is 0.05\n",
            "epoch is 500,loss is 0.3052339255809784 and acc is 0.89, learning_Rate is 0.049987528111736124\n",
            "epoch is 1000,loss is 0.22664718329906464 and acc is 0.9133333333333333, learning_Rate is 0.049975037468784345\n",
            "epoch is 1500,loss is 0.2003358006477356 and acc is 0.9133333333333333, learning_Rate is 0.04996255306647668\n",
            "epoch is 2000,loss is 0.1966646909713745 and acc is 0.9166666666666666, learning_Rate is 0.04995007490013731\n",
            "epoch is 2500,loss is 0.17819903790950775 and acc is 0.9233333333333333, learning_Rate is 0.04993760296509512\n",
            "epoch is 3000,loss is 0.1651885211467743 and acc is 0.93, learning_Rate is 0.049925137256683606\n",
            "epoch is 3500,loss is 0.15123620629310608 and acc is 0.94, learning_Rate is 0.049912677770240964\n",
            "epoch is 4000,loss is 0.14774049818515778 and acc is 0.9366666666666666, learning_Rate is 0.049900224501110035\n",
            "epoch is 4500,loss is 0.13810968399047852 and acc is 0.9466666666666667, learning_Rate is 0.04988777744463829\n",
            "epoch is 5000,loss is 0.13251563906669617 and acc is 0.94, learning_Rate is 0.04987533659617785\n",
            "epoch is 5500,loss is 0.13761824369430542 and acc is 0.9466666666666667, learning_Rate is 0.049862901951085496\n",
            "epoch is 6000,loss is 0.13478459417819977 and acc is 0.95, learning_Rate is 0.04985047350472258\n",
            "epoch is 6500,loss is 0.12839946150779724 and acc is 0.9366666666666666, learning_Rate is 0.049838051252455155\n",
            "epoch is 7000,loss is 0.12142231315374374 and acc is 0.96, learning_Rate is 0.04982563518965381\n",
            "epoch is 7500,loss is 0.11506380885839462 and acc is 0.9533333333333334, learning_Rate is 0.0498132253116938\n",
            "epoch is 8000,loss is 0.1133321151137352 and acc is 0.9566666666666667, learning_Rate is 0.04980082161395499\n",
            "epoch is 8500,loss is 0.11199212074279785 and acc is 0.9666666666666667, learning_Rate is 0.049788424091821805\n",
            "epoch is 9000,loss is 0.10586090385913849 and acc is 0.95, learning_Rate is 0.04977603274068329\n",
            "epoch is 9500,loss is 0.10828354954719543 and acc is 0.9733333333333334, learning_Rate is 0.0497636475559331\n",
            "epoch is 10000,loss is 0.10528705269098282 and acc is 0.97, learning_Rate is 0.04975126853296942\n"
          ],
          "name": "stdout"
        }
      ]
    },
    {
      "cell_type": "markdown",
      "metadata": {
        "id": "8dztbQbg1T9V"
      },
      "source": [
        "<h2> L1 and L2 regularizers </h2>"
      ]
    },
    {
      "cell_type": "code",
      "metadata": {
        "id": "4-ph1I301h6z"
      },
      "source": [
        "class Dense:\r\n",
        "\r\n",
        "  def __init__(self,n_samples,n_neurons,weight_regularizer_l2=0,bias_regularizer_l2=0,weight_regularizer_l1=0,bias_regularizer_l1=0):\r\n",
        "    self.weights = 0.01 * np.random.randn(n_samples,n_neurons)\r\n",
        "    self.biases = np.zeros((1,n_neurons))\r\n",
        "    self.weight_regularizer_l2 = weight_regularizer_l2\r\n",
        "    self.bias_regularizer_l2 = bias_regularizer_l2\r\n",
        "    self.weight_regularizer_l1 = weight_regularizer_l1\r\n",
        "    self.bias_regularizer_l1 = bias_regularizer_l1\r\n",
        "    \r\n",
        "\r\n",
        "  def forward(self,inputs):\r\n",
        "    self.output = np.dot(inputs,self.weights) + self.biases\r\n",
        "    self.inputs = inputs\r\n",
        "\r\n",
        "  def backward(self,dvalues):\r\n",
        "\r\n",
        "    self.dweights = np.dot(self.inputs.T,dvalues)\r\n",
        "    self.dbiases = np.sum(dvalues,axis=0,keepdims=True)\r\n",
        "    self.dinputs = np.dot(dvalues, self.weights.T)\r\n",
        "\r\n",
        "    # gradients for l2 or l1 regularizer if used \r\n",
        "\r\n",
        "    if self.weight_regularizer_l2 > 0 :\r\n",
        "      res = 2 * self.weight_regularizer_l2 * self.weights\r\n",
        "      self.dweights += res\r\n",
        "    if self.bias_regularizer_l2 > 0 :\r\n",
        "      res = 2 * self.bias_regularizer_l2 * self.biases \r\n",
        "      self.dbiases += res\r\n",
        "    if self.weight_regularizer_l1 > 0:\r\n",
        "      temp = np.ones_like(self.weights)\r\n",
        "      temp[self.weights < 0] = -1\r\n",
        "      self.dweights += self.weight_regularizer_l1 * temp\r\n",
        "    if self.bias_regularizer_l1 > 0:\r\n",
        "      temp = np.ones_like(self.biases)\r\n",
        "      temp[self.biases < 0 ] = -1\r\n",
        "      self.dbiases += self.bias_regularizer_l1 * temp\r\n",
        "\r\n",
        "class ActivationRelu:\r\n",
        "\r\n",
        "  def forward(self,inputs):\r\n",
        "    self.output = np.maximum(0,inputs)\r\n",
        "    self.inputs = inputs\r\n",
        "  \r\n",
        "  def backward(self,dvalues):\r\n",
        "\r\n",
        "    self.drelu = dvalues.copy()\r\n",
        "    self.drelu[self.inputs<=0] = 0\r\n",
        "\r\n",
        "\r\n",
        "class ActivationSoftmax:\r\n",
        "\r\n",
        "\r\n",
        "  def forward(self,inputs):\r\n",
        "    \r\n",
        "    exp = np.exp(inputs - np.max(inputs,axis=1,keepdims=True))\r\n",
        "\r\n",
        "    \r\n",
        "\r\n",
        "    self.output = exp / np.sum(exp,axis=1,keepdims=True) # row wise sum for each sample output shape will be output = (n_samples,n_classes)\r\n",
        "\r\n",
        "\r\n",
        "\r\n",
        "class Loss:\r\n",
        "\r\n",
        "  def regularizer_loss(self,layer):\r\n",
        "\r\n",
        "    regularize_loss = 0\r\n",
        "\r\n",
        "    if layer.weight_regularizer_l2 > 0:\r\n",
        "      regularize_loss += layer.weight_regularizer_l2 * np.sum(layer.weights * layer.weights)\r\n",
        "\r\n",
        "    if layer.bias_regularizer_l2 > 0:\r\n",
        "      regularize_loss += layer.bias_regularizer_l2 * np.sum(layer.biases * layer.biases)\r\n",
        "\r\n",
        "    if layer.weight_regularizer_l1 > 0:\r\n",
        "      regularize_loss += layer.weight_regularizer_l1 * np.sum(np.abs(layer.weights))\r\n",
        "\r\n",
        "    if layer.bias_regularizer_l1 > 0:\r\n",
        "      regularize_loss += layer.bias_regularizer_l1 * np.sum(np.abs(layer.biases))\r\n",
        "\r\n",
        "\r\n",
        "    return regularize_loss\r\n",
        "\r\n",
        "\r\n",
        "  def calculate(self,outputs,y):\r\n",
        "\r\n",
        "    \r\n",
        "\r\n",
        "    loss_value = self.forward(outputs,y)\r\n",
        "\r\n",
        "    mean_value = np.mean(loss_value)\r\n",
        "  \r\n",
        "    return mean_value\r\n",
        "\r\n",
        "class Categorical_Crossentropy(Loss):\r\n",
        "\r\n",
        "  def forward(self,y_pred,y_true):\r\n",
        "    samples = len(y_pred) \r\n",
        "\r\n",
        "    y_pred = np.clip(y_pred,1e-7, 1 - 1e-7)\r\n",
        "\r\n",
        "    if len(y_true.shape) == 1:\r\n",
        "      y_pred  = y_pred[range(samples),y_true]\r\n",
        "\r\n",
        "    elif len(y_true.shape) == 2:\r\n",
        "      y_pred = np.sum(y_pred*y_true,axis=1)\r\n",
        "\r\n",
        "    probabilities = -np.log(y_pred)\r\n",
        "\r\n",
        "    return probabilities\r\n",
        "\r\n",
        "\r\n",
        "class Softmax_Activation_Crossentropy:\r\n",
        "\r\n",
        "  def __init__(self):\r\n",
        "    self.activation = ActivationSoftmax()\r\n",
        "    self.loss = Categorical_Crossentropy()\r\n",
        "  \r\n",
        "  def forward(self,inputs,y_true):\r\n",
        "\r\n",
        "    self.activation.forward(inputs)\r\n",
        "    \r\n",
        "    self.output = self.activation.output\r\n",
        "\r\n",
        "    \r\n",
        "    return self.loss.calculate(self.output,y_true)\r\n",
        "\r\n",
        "\r\n",
        "  def backward(self,dvalues,y_true):\r\n",
        "\r\n",
        "    samples = len(dvalues)\r\n",
        "\r\n",
        "    if len(y_true.shape) == 2:\r\n",
        "      y_true = np.argmax(y_true,axis=1)\r\n",
        "\r\n",
        "    self.dinputs = dvalues.copy()\r\n",
        "    # derivative of softmax is y_i_j - y_hat_i_j\r\n",
        "    self.dinputs[range(samples),y_true] -= 1\r\n",
        "\r\n",
        "    self.dinputs = self.dinputs / samples\r\n",
        "\r\n",
        "    \r\n"
      ],
      "execution_count": 2,
      "outputs": []
    },
    {
      "cell_type": "markdown",
      "metadata": {
        "id": "tpzUQ8VCYJJ3"
      },
      "source": [
        "<h2> Dropout </h2>"
      ]
    },
    {
      "cell_type": "code",
      "metadata": {
        "id": "fu8OHdsbYK2_"
      },
      "source": [
        "# class to implement dropout\r\n",
        "class Dropout:\r\n",
        "\r\n",
        "  def __init__(self,rate):\r\n",
        "    self.rate = 1 - rate # rate to keep percent of neurons enable\r\n",
        "\r\n",
        "  def forward(self,inputs):\r\n",
        "    \r\n",
        "\r\n",
        "    self.binary_mask = np.random.binomial(1,self.rate,size=inputs.shape) / self.rate\r\n",
        "    self.output = inputs * self.binary_mask\r\n",
        "\r\n",
        "  def backward(self,dinputs):\r\n",
        "\r\n",
        "    self.dvalues = dinputs * self.binary_mask\r\n",
        "\r\n"
      ],
      "execution_count": 3,
      "outputs": []
    },
    {
      "cell_type": "code",
      "metadata": {
        "colab": {
          "base_uri": "https://localhost:8080/"
        },
        "id": "o-nPAh0TbY4r",
        "outputId": "5d7b7263-48fd-4105-bb52-f85996e4f0bc"
      },
      "source": [
        "\n",
        "X, y = spiral_data(samples=1000, classes=3)\n",
        "\n",
        "dense1 = Dense(2,64,weight_regularizer_l2=5e-4,bias_regularizer_l2=5e-4)\n",
        "\n",
        "dropout1 = Dropout(0.1)\n",
        "\n",
        "activation1 = ActivationRelu()\n",
        "\n",
        "dense2 = Dense(64,3)\n",
        "\n",
        "\n",
        "loss_activation = Softmax_Activation_Crossentropy()\n",
        "\n",
        "\n",
        "optimizers = ADAM(learning_rate=0.05, decay_rate=5e-5)\n",
        "\n",
        "\n",
        "for epochs in range(5001):\n",
        "\n",
        "  dense1.forward(X)\n",
        "\n",
        "  activation1.forward(dense1.output)\n",
        "\n",
        "  dropout1.forward(activation1.output)\n",
        "\n",
        "  dense2.forward(dropout1.output)\n",
        "\n",
        "\n",
        "\n",
        "  data_loss = loss_activation.forward(dense2.output,y)\n",
        "\n",
        "  regularization_loss = loss_activation.loss.regularizer_loss(dense1) + loss_activation.loss.regularizer_loss(dense2)\n",
        "\n",
        "  total_loss = data_loss + regularization_loss\n",
        "\n",
        "  predictions = np.argmax(loss_activation.output,axis=1)\n",
        "  if len(y.shape) == 2:\n",
        "    y = np.argmax(y,axis=1)\n",
        "  acc = np.mean(predictions==y)\n",
        "  if not epochs % 200:\n",
        "    print('epoch is {},loss is {} and acc is {}, learning_Rate is {}'.format(epochs,total_loss,acc,optimizers.current_learning_rate))\n",
        "\n",
        "\n",
        "  loss_activation.backward(loss_activation.output,y)\n",
        "  dense2.backward(loss_activation.dinputs)\n",
        "  #activation2.backward(dense3.dinputs)\n",
        "  dropout1.backward(dense2.dinputs)\n",
        "\n",
        "  activation1.backward(dropout1.dvalues)\n",
        "\n",
        "  dense1.backward(activation1.drelu)\n",
        "\n",
        "  optimizers.update_learning_rate()\n",
        "  optimizers.update_params(dense1)\n",
        "  optimizers.update_params(dense2)\n",
        "  optimizers.update_iterations()\n",
        "\n",
        "\n",
        "\n",
        "\n",
        "\n",
        "\n",
        "\n"
      ],
      "execution_count": 11,
      "outputs": [
        {
          "output_type": "stream",
          "text": [
            "epoch is 0,loss is 1.0986000350825489 and acc is 0.37466666666666665, learning_Rate is 0.05\n",
            "epoch is 200,loss is 0.8441108603477478 and acc is 0.6243333333333333, learning_Rate is 0.049507401356502806\n",
            "epoch is 400,loss is 0.7940272130966186 and acc is 0.651, learning_Rate is 0.04902201088288642\n",
            "epoch is 600,loss is 0.7521327548027039 and acc is 0.6726666666666666, learning_Rate is 0.04854604592455945\n",
            "epoch is 800,loss is 0.7632229690551757 and acc is 0.6756666666666666, learning_Rate is 0.04807923457858551\n",
            "epoch is 1000,loss is 0.7497394609451294 and acc is 0.692, learning_Rate is 0.04762131530072861\n",
            "epoch is 1200,loss is 0.7489730381965637 and acc is 0.677, learning_Rate is 0.04717203641681212\n",
            "epoch is 1400,loss is 0.7339443726539612 and acc is 0.701, learning_Rate is 0.04673115566147951\n",
            "epoch is 1600,loss is 0.7300653667449951 and acc is 0.6966666666666667, learning_Rate is 0.04629843974258068\n",
            "epoch is 1800,loss is 0.7410551919937134 and acc is 0.6833333333333333, learning_Rate is 0.04587366392953806\n",
            "epoch is 2000,loss is 0.7193880953788757 and acc is 0.6876666666666666, learning_Rate is 0.045456611664166556\n",
            "epoch is 2200,loss is 0.7298426699638366 and acc is 0.6933333333333334, learning_Rate is 0.0450470741925312\n",
            "epoch is 2400,loss is 0.7308172106742858 and acc is 0.6893333333333334, learning_Rate is 0.04464485021652753\n",
            "epoch is 2600,loss is 0.7148775210380555 and acc is 0.696, learning_Rate is 0.04424974556396301\n",
            "epoch is 2800,loss is 0.7298134903907776 and acc is 0.6793333333333333, learning_Rate is 0.04386157287600334\n",
            "epoch is 3000,loss is 0.722540225982666 and acc is 0.7056666666666667, learning_Rate is 0.043480151310926564\n",
            "epoch is 3200,loss is 0.7140691685676575 and acc is 0.683, learning_Rate is 0.043105306263201\n",
            "epoch is 3400,loss is 0.7068454480171203 and acc is 0.6926666666666667, learning_Rate is 0.04273686909696996\n",
            "epoch is 3600,loss is 0.6971908197402954 and acc is 0.6993333333333334, learning_Rate is 0.042374676893088686\n",
            "epoch is 3800,loss is 0.6983822803497315 and acc is 0.6903333333333334, learning_Rate is 0.04201857220891634\n",
            "epoch is 4000,loss is 0.6952639122009278 and acc is 0.6853333333333333, learning_Rate is 0.04166840285011875\n",
            "epoch is 4200,loss is 0.7136803312301636 and acc is 0.702, learning_Rate is 0.041324021653787346\n",
            "epoch is 4400,loss is 0.7058298335075378 and acc is 0.693, learning_Rate is 0.040985286282224684\n",
            "epoch is 4600,loss is 0.7364865770339966 and acc is 0.6836666666666666, learning_Rate is 0.04065205902678971\n",
            "epoch is 4800,loss is 0.7049483699798584 and acc is 0.7003333333333334, learning_Rate is 0.04032420662123473\n",
            "epoch is 5000,loss is 0.6906980381011963 and acc is 0.7153333333333334, learning_Rate is 0.04000160006400256\n"
          ],
          "name": "stdout"
        }
      ]
    },
    {
      "cell_type": "markdown",
      "metadata": {
        "id": "E_1LNqJS5rzp"
      },
      "source": [
        "<h2> Binary Logistic Regression </h2>"
      ]
    },
    {
      "cell_type": "code",
      "metadata": {
        "id": "yJyYfaJE5vnG"
      },
      "source": [
        "# sigmoid activation function\r\n",
        "class Activation_Sigmoid:\r\n",
        "  # computing forward propagation i.e sigmoid(z) = output = 1 / 1 + np.exp(-z)\r\n",
        "  def forward(self,inputs):\r\n",
        "\r\n",
        "    self.output = 1 / (1 + np.exp(-inputs))\r\n",
        "\r\n",
        "  # calculating gradients for sigmoid activaion( derivative of sigmoid(z) = sigmoid(z) * (1 - sigmoid(z)))\r\n",
        "  def backward(self,dvalues):\r\n",
        "\r\n",
        "    self.dinputs = dvalues * self.output * (1-self.output)\r\n",
        "\r\n",
        "  \r\n",
        "# binary cross entropy loss\r\n",
        "class BinaryCrossEntropy(Loss):\r\n",
        "\r\n",
        "  \r\n",
        "  def forward(self,y_pred,y_true):\r\n",
        "\r\n",
        "    y_pred_clipped = np.clip(y_pred,1e-7,1-1e-7) # clipping predicted values inorder to solve problem when model predicts confidence with 1 or 0\r\n",
        "\r\n",
        "    self.result = - (y_true *np.log(y_pred_clipped) + (1-y_true) * np.log(1-y_pred_clipped))\r\n",
        "\r\n",
        "    #self.result_mean = np.mean(self.result,axis=-1)\r\n",
        "\r\n",
        "    return self.result\r\n",
        "\r\n",
        "  # computing gradients for backward propagation.\r\n",
        "  def backward(self,y_pred,y_true):\r\n",
        "\r\n",
        "    y_pred_clipped = np.clip(y_pred,1e-7,1-1e-7)\r\n",
        " \r\n",
        "    # no of outputs per samples\r\n",
        "    outputs = len(y_pred[0])\r\n",
        "\r\n",
        "    # no of samples\r\n",
        "    samples = len(y_pred)\r\n",
        "\r\n",
        "    self.dinputs = - (y_true / y_pred_clipped - (1-y_true) / (1 - y_pred_clipped) ) / outputs\r\n",
        "\r\n",
        "    # normalizing the gradients\r\n",
        "    self.dinputs = self.dinputs / samples\r\n",
        "\r\n",
        "\r\n",
        "\r\n",
        "\r\n",
        "  \r\n"
      ],
      "execution_count": null,
      "outputs": []
    },
    {
      "cell_type": "code",
      "metadata": {
        "colab": {
          "base_uri": "https://localhost:8080/"
        },
        "id": "_ynfGEtL-8mw",
        "outputId": "5bc7a3be-fda5-4197-b7b8-3976c4b9bfb0"
      },
      "source": [
        "X, y = spiral_data(samples=100, classes=2)\r\n",
        "y = y.reshape(-1,1)\r\n",
        "\r\n",
        "dense1 = Dense(2,64,weight_regularizer_l1=5e-4,bias_regularizer_l1=5e-4)\r\n",
        "\r\n",
        "activation1 = ActivationRelu()\r\n",
        "\r\n",
        "dense2 = Dense(64,1)\r\n",
        "\r\n",
        "activation2 = Activation_Sigmoid()\r\n",
        "\r\n",
        "binary_loss = BinaryCrossEntropy()\r\n",
        "\r\n",
        "optimizer = ADAM(decay_rate=5e-7)\r\n",
        "\r\n",
        "for epochs in range(10001):\r\n",
        "\r\n",
        "  dense1.forward(X)\r\n",
        "\r\n",
        "  activation1.forward(dense1.output)\r\n",
        "\r\n",
        "  dense2.forward(activation1.output)\r\n",
        "\r\n",
        "  activation2.forward(dense2.output)\r\n",
        "\r\n",
        "  data_loss = binary_loss.calculate(activation2.output,y)\r\n",
        "\r\n",
        "  regularization_loss = binary_loss.regularizer_loss(dense1)\r\n",
        "\r\n",
        "  total_loss = data_loss + regularization_loss\r\n",
        "\r\n",
        "  predictions = (activation2.output > 0.5) * 1\r\n",
        "\r\n",
        "  accuracy = np.mean(predictions == y)\r\n",
        "\r\n",
        "  if not epochs % 200:\r\n",
        "\r\n",
        "    print(f'epochs: {epochs}' +  f' acc : {accuracy:.3f}' + f'  loss : {total_loss :.3f}')\r\n",
        "  binary_loss.backward(activation2.output,y)\r\n",
        "  activation2.backward(binary_loss.dinputs)\r\n",
        "  dense2.backward(activation2.dinputs)\r\n",
        "  activation1.backward(dense2.dinputs)\r\n",
        "  dense1.backward(activation1.drelu)\r\n",
        "\r\n",
        "  optimizer.update_learning_rate()\r\n",
        "  optimizer.update_params(dense1)\r\n",
        "  optimizer.update_params(dense2)\r\n",
        "  optimizer.update_iterations()\r\n",
        "\r\n",
        "\r\n"
      ],
      "execution_count": null,
      "outputs": [
        {
          "output_type": "stream",
          "text": [
            "epochs: 0 acc : 0.430  loss : 0.694\n",
            "epochs: 200 acc : 0.830  loss : 0.441\n",
            "epochs: 400 acc : 0.925  loss : 0.302\n",
            "epochs: 600 acc : 0.970  loss : 0.219\n",
            "epochs: 800 acc : 0.975  loss : 0.182\n",
            "epochs: 1000 acc : 0.975  loss : 0.163\n",
            "epochs: 1200 acc : 0.980  loss : 0.151\n",
            "epochs: 1400 acc : 0.985  loss : 0.141\n",
            "epochs: 1600 acc : 0.985  loss : 0.134\n",
            "epochs: 1800 acc : 0.985  loss : 0.128\n",
            "epochs: 2000 acc : 0.990  loss : 0.121\n",
            "epochs: 2200 acc : 0.990  loss : 0.115\n",
            "epochs: 2400 acc : 0.990  loss : 0.111\n",
            "epochs: 2600 acc : 0.990  loss : 0.108\n",
            "epochs: 2800 acc : 0.990  loss : 0.104\n",
            "epochs: 3000 acc : 0.990  loss : 0.102\n",
            "epochs: 3200 acc : 0.995  loss : 0.101\n",
            "epochs: 3400 acc : 0.995  loss : 0.097\n",
            "epochs: 3600 acc : 0.995  loss : 0.094\n",
            "epochs: 3800 acc : 0.995  loss : 0.092\n",
            "epochs: 4000 acc : 0.995  loss : 0.090\n",
            "epochs: 4200 acc : 0.995  loss : 0.088\n",
            "epochs: 4400 acc : 0.995  loss : 0.086\n",
            "epochs: 4600 acc : 0.995  loss : 0.084\n",
            "epochs: 4800 acc : 0.995  loss : 0.082\n",
            "epochs: 5000 acc : 0.995  loss : 0.080\n",
            "epochs: 5200 acc : 0.995  loss : 0.079\n",
            "epochs: 5400 acc : 0.995  loss : 0.077\n",
            "epochs: 5600 acc : 0.995  loss : 0.075\n",
            "epochs: 5800 acc : 0.995  loss : 0.074\n",
            "epochs: 6000 acc : 0.995  loss : 0.072\n",
            "epochs: 6200 acc : 0.995  loss : 0.070\n",
            "epochs: 6400 acc : 0.995  loss : 0.069\n",
            "epochs: 6600 acc : 0.995  loss : 0.068\n",
            "epochs: 6800 acc : 0.995  loss : 0.066\n",
            "epochs: 7000 acc : 0.995  loss : 0.066\n",
            "epochs: 7200 acc : 0.995  loss : 0.065\n",
            "epochs: 7400 acc : 0.995  loss : 0.065\n",
            "epochs: 7600 acc : 0.995  loss : 0.064\n",
            "epochs: 7800 acc : 0.995  loss : 0.063\n",
            "epochs: 8000 acc : 0.995  loss : 0.062\n",
            "epochs: 8200 acc : 0.995  loss : 0.062\n",
            "epochs: 8400 acc : 0.995  loss : 0.061\n",
            "epochs: 8600 acc : 0.995  loss : 0.060\n",
            "epochs: 8800 acc : 0.995  loss : 0.059\n",
            "epochs: 9000 acc : 0.995  loss : 0.059\n",
            "epochs: 9200 acc : 0.995  loss : 0.058\n",
            "epochs: 9400 acc : 0.995  loss : 0.057\n",
            "epochs: 9600 acc : 0.995  loss : 0.056\n",
            "epochs: 9800 acc : 0.995  loss : 0.056\n",
            "epochs: 10000 acc : 0.995  loss : 0.055\n"
          ],
          "name": "stdout"
        }
      ]
    },
    {
      "cell_type": "code",
      "metadata": {
        "colab": {
          "base_uri": "https://localhost:8080/"
        },
        "id": "KdmMCe6r_AF1",
        "outputId": "c04ec390-51b2-4822-addd-08716a37aedd"
      },
      "source": [
        "X, y = spiral_data(samples=100, classes=2)\r\n",
        "y = y.reshape(-1,1)\r\n",
        "\r\n",
        "dense1 = Dense(2,64,weight_regularizer_l1=5e-4,bias_regularizer_l1=5e-4)\r\n",
        "\r\n",
        "activation1 = ActivationRelu()\r\n",
        "\r\n",
        "dense2 = Dense(64,1)\r\n",
        "\r\n",
        "activation2 = Activation_Sigmoid()\r\n",
        "\r\n",
        "binary_loss = BinaryCrossEntropy()\r\n",
        "\r\n",
        "optimizer = ADAM(decay_rate=5e-7)\r\n",
        "\r\n",
        "for epochs in range(10001):\r\n",
        "\r\n",
        "  dense1.forward(X)\r\n",
        "\r\n",
        "  activation1.forward(dense1.output)\r\n",
        "\r\n",
        "  dense2.forward(activation1.output)\r\n",
        "\r\n",
        "  activation2.forward(dense2.output)\r\n",
        "\r\n",
        "  data_loss = binary_loss.calculate(activation2.output,y)\r\n",
        "\r\n",
        "  regularization_loss = binary_loss.regularizer_loss(dense1)\r\n",
        "\r\n",
        "  total_loss = data_loss + regularization_loss\r\n",
        "\r\n",
        "  predictions = (activation2.output > 0.5) * 1\r\n",
        "\r\n",
        "  accuracy = np.mean(predictions == y)\r\n",
        "\r\n",
        "  if not epochs % 200:\r\n",
        "\r\n",
        "    print(f'epochs: {epochs}' +  f' acc : {accuracy:.3f}' + f'  loss : {total_loss :.3f}')\r\n",
        "  binary_loss.backward(activation2.output,y)\r\n",
        "  activation2.backward(binary_loss.dinputs)\r\n",
        "  dense2.backward(activation2.dinputs)\r\n",
        "  activation1.backward(dense2.dinputs)\r\n",
        "  dense1.backward(activation1.drelu)\r\n",
        "\r\n",
        "  optimizer.update_learning_rate()\r\n",
        "  optimizer.update_params(dense1)\r\n",
        "  optimizer.update_params(dense2)\r\n",
        "  optimizer.update_iterations()\r\n",
        "\r\n",
        "\r\n"
      ],
      "execution_count": null,
      "outputs": [
        {
          "output_type": "stream",
          "text": [
            "epochs: 0 acc : 0.425  loss : 0.694\n",
            "epochs: 200 acc : 0.860  loss : 0.497\n",
            "epochs: 400 acc : 0.945  loss : 0.324\n",
            "epochs: 600 acc : 0.955  loss : 0.268\n",
            "epochs: 800 acc : 0.970  loss : 0.226\n",
            "epochs: 1000 acc : 0.985  loss : 0.201\n",
            "epochs: 1200 acc : 0.985  loss : 0.180\n",
            "epochs: 1400 acc : 0.985  loss : 0.168\n",
            "epochs: 1600 acc : 0.985  loss : 0.158\n",
            "epochs: 1800 acc : 0.990  loss : 0.149\n",
            "epochs: 2000 acc : 0.995  loss : 0.142\n",
            "epochs: 2200 acc : 0.990  loss : 0.137\n",
            "epochs: 2400 acc : 0.995  loss : 0.132\n",
            "epochs: 2600 acc : 0.995  loss : 0.128\n",
            "epochs: 2800 acc : 0.995  loss : 0.126\n",
            "epochs: 3000 acc : 0.995  loss : 0.123\n",
            "epochs: 3200 acc : 0.995  loss : 0.120\n",
            "epochs: 3400 acc : 0.995  loss : 0.117\n",
            "epochs: 3600 acc : 0.995  loss : 0.115\n",
            "epochs: 3800 acc : 0.995  loss : 0.112\n",
            "epochs: 4000 acc : 0.995  loss : 0.109\n",
            "epochs: 4200 acc : 0.995  loss : 0.107\n",
            "epochs: 4400 acc : 0.995  loss : 0.104\n",
            "epochs: 4600 acc : 0.995  loss : 0.102\n",
            "epochs: 4800 acc : 0.995  loss : 0.100\n",
            "epochs: 5000 acc : 0.995  loss : 0.099\n",
            "epochs: 5200 acc : 0.995  loss : 0.096\n",
            "epochs: 5400 acc : 0.995  loss : 0.094\n",
            "epochs: 5600 acc : 0.995  loss : 0.092\n",
            "epochs: 5800 acc : 0.995  loss : 0.090\n",
            "epochs: 6000 acc : 0.995  loss : 0.088\n",
            "epochs: 6200 acc : 0.995  loss : 0.087\n",
            "epochs: 6400 acc : 0.995  loss : 0.085\n",
            "epochs: 6600 acc : 0.995  loss : 0.084\n",
            "epochs: 6800 acc : 0.995  loss : 0.082\n",
            "epochs: 7000 acc : 0.995  loss : 0.083\n",
            "epochs: 7200 acc : 0.995  loss : 0.081\n",
            "epochs: 7400 acc : 0.995  loss : 0.081\n",
            "epochs: 7600 acc : 0.995  loss : 0.080\n",
            "epochs: 7800 acc : 0.995  loss : 0.079\n",
            "epochs: 8000 acc : 0.995  loss : 0.079\n",
            "epochs: 8200 acc : 0.995  loss : 0.079\n",
            "epochs: 8400 acc : 0.995  loss : 0.078\n",
            "epochs: 8600 acc : 0.995  loss : 0.078\n",
            "epochs: 8800 acc : 0.995  loss : 0.077\n",
            "epochs: 9000 acc : 0.995  loss : 0.076\n",
            "epochs: 9200 acc : 0.995  loss : 0.076\n",
            "epochs: 9400 acc : 0.995  loss : 0.075\n",
            "epochs: 9600 acc : 0.995  loss : 0.074\n",
            "epochs: 9800 acc : 0.995  loss : 0.074\n",
            "epochs: 10000 acc : 0.995  loss : 0.073\n"
          ],
          "name": "stdout"
        }
      ]
    },
    {
      "cell_type": "code",
      "metadata": {
        "colab": {
          "base_uri": "https://localhost:8080/"
        },
        "id": "BXDDVIk0CWBn",
        "outputId": "ad892ac9-6a0a-4adc-8e1e-841b3c9a5bc7"
      },
      "source": [
        "X_test, y_test = spiral_data(samples=100, classes=2)\r\n",
        "y_test = y_test.reshape(-1,1)\r\n",
        "\r\n",
        "dense1.forward(X_test)\r\n",
        "activation1.forward(dense1.output)\r\n",
        "dense2.forward(activation1.output)\r\n",
        "activation2.forward(dense2.output)\r\n",
        "\r\n",
        "data_loss = binary_loss.calculate(activation2.output,y_test)\r\n",
        "predictions = (activation2.output > 0.5) * 1\r\n",
        "accuracy = np.mean(predictions == y_test)\r\n",
        "\r\n",
        "print('loss : {} and accuracy : {}'.format(data_loss,accuracy))"
      ],
      "execution_count": null,
      "outputs": [
        {
          "output_type": "stream",
          "text": [
            "loss : 0.14201974868774414 and accuracy : 0.985\n"
          ],
          "name": "stdout"
        }
      ]
    },
    {
      "cell_type": "markdown",
      "metadata": {
        "id": "ccHv7Gs0gXpZ"
      },
      "source": [
        "<h2>  Regression  Problem </h2>"
      ]
    },
    {
      "cell_type": "code",
      "metadata": {
        "id": "9SAu8J_5CK1x"
      },
      "source": [
        "class Activation_Linear:\r\n",
        "  def forward(self,inputs):\r\n",
        "    self.output = inputs\r\n",
        "\r\n",
        "  def backward(self,dvalues):\r\n",
        "    self.dinputs = dvalues.copy()\r\n",
        "\r\n",
        "\r\n",
        "class SquaredLoss(Loss):\r\n",
        "\r\n",
        "  def forward(self,y_pred,y_true):\r\n",
        "\r\n",
        "    res = (y_true - y_pred) ** 2\r\n",
        "    loss = np.mean(res,axis=-1)\r\n",
        "\r\n",
        "    return loss\r\n",
        "\r\n",
        "  def backward(self,dvalues,y_true):\r\n",
        "\r\n",
        "    samples = len(dvalues)\r\n",
        "\r\n",
        "    outputs = len(dvalues[0])\r\n",
        "\r\n",
        "    self.dinputs = - 2 * (y_true - dvalues) / outputs\r\n",
        "\r\n",
        "    self.dinputs = self.dinputs / samples\r\n",
        "\r\n",
        "\r\n",
        "class MeanAbsoluteErrorLoss(Loss):\r\n",
        "\r\n",
        "  def forward(self,y_pred,y_true):\r\n",
        "\r\n",
        "    res = np.abs(y_true - y_pred)\r\n",
        "\r\n",
        "    loss = np.mean(res,axis=-1)\r\n",
        "\r\n",
        "    return loss\r\n",
        "\r\n",
        "  def backward(self,dvalues,y_true):\r\n",
        "\r\n",
        "    samples = len(dvalues)\r\n",
        "\r\n",
        "    \r\n",
        "\r\n",
        "    self.dinputs = np.sign(y_true -  dvalues)\r\n",
        "\r\n",
        "    self.dinputs = self.dinputs / samples\r\n",
        "\r\n",
        "    \r\n",
        "  "
      ],
      "execution_count": null,
      "outputs": []
    },
    {
      "cell_type": "code",
      "metadata": {
        "colab": {
          "base_uri": "https://localhost:8080/"
        },
        "id": "cC8-ywxUk6Gd",
        "outputId": "4fc3510b-410f-470d-93dd-9c260268f50d"
      },
      "source": [
        "# Create dataset\r\n",
        "from nnfs.datasets import sine_data\r\n",
        "X, y = sine_data()\r\n",
        "\r\n",
        "dense1 = Dense(1,64)\r\n",
        "\r\n",
        "activation1 = ActivationRelu()\r\n",
        "\r\n",
        "dense2 = Dense(64,1)\r\n",
        "\r\n",
        "activation2 = Activation_Linear()\r\n",
        "\r\n",
        "mse_loss = SquaredLoss()\r\n",
        "\r\n",
        "optimizer = ADAM()\r\n",
        "\r\n",
        "for epochs in range(10001):\r\n",
        "\r\n",
        "  dense1.forward(X)\r\n",
        "  activation1.forward(dense1.output)\r\n",
        "  dense2.forward(activation1.output)\r\n",
        "  activation2.forward(dense2.output)\r\n",
        "  data_loss = mse_loss.calculate(activation2.output,y)\r\n",
        "\r\n",
        "  if not epochs % 500:\r\n",
        "    print('loss: {}'.format(data_loss))\r\n",
        "\r\n",
        "  mse_loss.backward(activation2.output,y)\r\n",
        "  activation2.backward(mse_loss.dinputs)\r\n",
        "  dense2.backward(activation2.dinputs)\r\n",
        "  activation1.backward(dense2.dinputs)\r\n",
        "  dense1.backward(activation1.drelu)\r\n",
        "\r\n",
        "  optimizer.update_learning_rate()\r\n",
        "  optimizer.update_params(dense1)\r\n",
        "  optimizer.update_params(dense2)\r\n",
        "  optimizer.update_iterations()"
      ],
      "execution_count": null,
      "outputs": [
        {
          "output_type": "stream",
          "text": [
            "loss: 0.4998947356703105\n",
            "loss: 0.043518963039495415\n",
            "loss: 0.011135711619493172\n",
            "loss: 0.005231296784095935\n",
            "loss: 0.0031474640594874436\n",
            "loss: 0.001885600856963659\n",
            "loss: 0.0013150171454415275\n",
            "loss: 0.0009662300997391419\n",
            "loss: 0.0007442493918078125\n",
            "loss: 0.0006310013734950437\n",
            "loss: 0.0004939538206989323\n",
            "loss: 0.00039110334205195345\n",
            "loss: 0.0011681883554212882\n",
            "loss: 0.0006792317626282358\n",
            "loss: 0.00024200001549748697\n",
            "loss: 0.00021126035641300694\n",
            "loss: 0.0001857243091349871\n",
            "loss: 0.00016569646185267468\n",
            "loss: 0.0002647211502359162\n",
            "loss: 0.000134909358659231\n",
            "loss: 0.00012042269308979097\n"
          ],
          "name": "stdout"
        }
      ]
    },
    {
      "cell_type": "markdown",
      "metadata": {
        "id": "_hD5rSli3TJZ"
      },
      "source": [
        "<h2> Model Object </h2>"
      ]
    },
    {
      "cell_type": "code",
      "metadata": {
        "id": "m8chPE9JnHjF"
      },
      "source": [
        "class Model:\r\n",
        "\r\n",
        "  def __init__(self):\r\n",
        "    self.layers = []\r\n",
        "\r\n",
        "  def add(self,layer):\r\n",
        "\r\n",
        "    self.layers.append(layer)\r\n",
        "\r\n",
        "  def set(self,loss,optimizer):\r\n",
        "\r\n",
        "    self.loss = loss\r\n",
        "    self.optimizer = optimizer\r\n",
        "\r\n",
        "    "
      ],
      "execution_count": null,
      "outputs": []
    },
    {
      "cell_type": "code",
      "metadata": {
        "id": "jvF8AH1n589o"
      },
      "source": [
        "class Input_Layer:\r\n",
        "  def forward(self,inputs):\r\n",
        "    self.output = inputs"
      ],
      "execution_count": null,
      "outputs": []
    },
    {
      "cell_type": "code",
      "metadata": {
        "id": "9ImApo1e3fNu"
      },
      "source": [
        "\r\n",
        "model = Model()\r\n",
        "\r\n",
        "model.add(Dense(1,64))\r\n",
        "model.add(ActivationRelu())\r\n",
        "model.add(Dense(64,64))\r\n",
        "model.add(ActivationRelu())\r\n",
        "model.add(Dense(64,1))\r\n",
        "model.add(Activation_Linear())\r\n",
        "\r\n",
        "model.set(loss = SquaredLoss(),optimizer = ADAM(decay_rate=1e-3))"
      ],
      "execution_count": null,
      "outputs": []
    },
    {
      "cell_type": "code",
      "metadata": {
        "colab": {
          "base_uri": "https://localhost:8080/"
        },
        "id": "wV4zAMnP4R3c",
        "outputId": "57f7dc9f-6cd0-4efe-f213-40a405e246cd"
      },
      "source": [
        "model.layers"
      ],
      "execution_count": null,
      "outputs": [
        {
          "output_type": "execute_result",
          "data": {
            "text/plain": [
              "[<__main__.Dense at 0x7f061763f450>,\n",
              " <__main__.ActivationRelu at 0x7f0617cb0050>,\n",
              " <__main__.Dense at 0x7f0617ca8790>,\n",
              " <__main__.ActivationRelu at 0x7f0617c8a990>,\n",
              " <__main__.Dense at 0x7f0617c8a290>,\n",
              " <__main__.Activation_Linear at 0x7f06175db350>]"
            ]
          },
          "metadata": {
            "tags": []
          },
          "execution_count": 14
        }
      ]
    }
  ]
}