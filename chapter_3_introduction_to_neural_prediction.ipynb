{
 "cells": [
  {
   "cell_type": "markdown",
   "metadata": {},
   "source": [
    "<h2> Simple Neural Network </h2>"
   ]
  },
  {
   "cell_type": "code",
   "execution_count": 1,
   "metadata": {},
   "outputs": [],
   "source": [
    "weight = 0.1\n",
    "def neural_network(input,weight):\n",
    "    prediction = input * weight\n",
    "    return prediction"
   ]
  },
  {
   "cell_type": "code",
   "execution_count": 2,
   "metadata": {},
   "outputs": [
    {
     "name": "stdout",
     "output_type": "stream",
     "text": [
      "0.8500000000000001\n"
     ]
    }
   ],
   "source": [
    "number_of_toes = [8.5,9.5,10,9]\n",
    "input = number_of_toes[0]\n",
    "pred = neural_network(input,weight)\n",
    "print(pred)"
   ]
  },
  {
   "cell_type": "markdown",
   "metadata": {},
   "source": [
    "<h2> Making a prediction with multiple inputs </h2>"
   ]
  },
  {
   "cell_type": "markdown",
   "metadata": {},
   "source": [
    "<h3> This dataset is current status at the begining of each game for the first four games in a season.\n",
    "toes = current average number of toes per player\n",
    "wlrec = current games won(percent)\n",
    "nfans = fans count(in millions)"
   ]
  },
  {
   "cell_type": "code",
   "execution_count": 3,
   "metadata": {},
   "outputs": [],
   "source": [
    "toes = [8.5,9.5,9.9,9.0]\n",
    "wlrec = [0.65,0.8,0.8,0.9]\n",
    "nfans = [1.2,1.3,0.5,1.0]"
   ]
  },
  {
   "cell_type": "code",
   "execution_count": 4,
   "metadata": {},
   "outputs": [],
   "source": [
    "def w_sum(a,b):\n",
    "    assert len(a) == len(b)\n",
    "    res = 0\n",
    "    for idx in range(len(a)):\n",
    "        res += a[idx]*b[idx]\n",
    "    return res"
   ]
  },
  {
   "cell_type": "markdown",
   "metadata": {},
   "source": []
  },
  {
   "cell_type": "code",
   "execution_count": 5,
   "metadata": {},
   "outputs": [],
   "source": [
    "def neural_network(input,weights):\n",
    "    pred = w_sum(input,weights)\n",
    "    return pred"
   ]
  },
  {
   "cell_type": "code",
   "execution_count": 6,
   "metadata": {},
   "outputs": [
    {
     "name": "stdout",
     "output_type": "stream",
     "text": [
      "0.9800000000000001\n"
     ]
    }
   ],
   "source": [
    "input = [toes[0],wlrec[0],nfans[0]]\n",
    "weights = [0.1,0.2,0]\n",
    "pred = neural_network(input,weights)\n",
    "print(pred)"
   ]
  },
  {
   "cell_type": "markdown",
   "metadata": {},
   "source": [
    "<h3> Challenge vector math </h3>"
   ]
  },
  {
   "cell_type": "code",
   "execution_count": null,
   "metadata": {},
   "outputs": [],
   "source": [
    "def elementwise_multiplication(vec_a,vec_b):\n",
    "    assert(len(vec_a) == len(vec_b))\n",
    "    res = [0] * len(vec_a)\n",
    "    for idx in range(len(vec_a)):\n",
    "        res[idx] = vec_a[idx] * vec_b[idx]\n",
    "    return res\n",
    "\n",
    "def elementwise_addition(vec_a,vec_b):\n",
    "    assert(len(vec_a) == len(vec_b))\n",
    "    res = [0] * len(vec_a)\n",
    "    for idx in range(len(vec_a)):\n",
    "        res[idx] = vec_a[idx] + vec_b[idx]\n",
    "\n",
    "    return res\n",
    "\n",
    "def vector_sum(vec_a):\n",
    "    res = 0\n",
    "    for idx in range(len(vec_a)):\n",
    "        res += vec_a[idx]\n",
    "    return res\n",
    "\n",
    "def vector_average(vec_a):\n",
    "    res = 0\n",
    "    for idx in range(len(vec_a)):\n",
    "        res += vec_a[idx]\n",
    "    return res / len(vec_a)\n",
    "\n"
   ]
  },
  {
   "cell_type": "markdown",
   "metadata": {},
   "source": [
    "<h2> Single Input Multiple Output </h2>"
   ]
  },
  {
   "cell_type": "code",
   "execution_count": 1,
   "metadata": {},
   "outputs": [
    {
     "data": {
      "text/plain": [
       "[0.195, 0.13, 0.5850000000000001]"
      ]
     },
     "execution_count": 1,
     "metadata": {},
     "output_type": "execute_result"
    }
   ],
   "source": [
    "weight = [0.3,0.2,0.9]\n",
    "\n",
    "def ele_mul(num,weight):\n",
    "    output = [0,0,0]\n",
    "    assert(len(output) == len(weight))\n",
    "    for idx in range(len(weight)):\n",
    "        output[idx] = num * weight[idx]\n",
    "    return output\n",
    "\n",
    "def neural_network(input,weight):\n",
    "\n",
    "    pred = ele_mul(input,weight)\n",
    "    return pred\n",
    "\n",
    "wlrec = [0.65,0.8,0.8,0.9]\n",
    "\n",
    "input = wlrec[0]\n",
    "\n",
    "neural_network(input,weight)"
   ]
  },
  {
   "cell_type": "markdown",
   "metadata": {},
   "source": [
    "<h2> Multiple Inputs and Multiple Outputs </h2>"
   ]
  },
  {
   "cell_type": "code",
   "execution_count": 4,
   "metadata": {},
   "outputs": [],
   "source": [
    "def w_sum(a,b):\n",
    "    pred = 0 \n",
    "    assert((len(a)==len(b)))\n",
    "    for idx in range(len(a)):\n",
    "        pred += a[idx]*b[idx]\n",
    "\n",
    "    return pred"
   ]
  },
  {
   "cell_type": "code",
   "execution_count": 2,
   "metadata": {},
   "outputs": [],
   "source": [
    "weights = [[0.1,0.1,-0.3],\n",
    "           [0.1,0.2,0.0],\n",
    "           [0.0,1.3,0.1]]\n",
    "\n",
    "def vec_mat_mul(input,weights):\n",
    "    output = [0,0,0]\n",
    "\n",
    "    for idx in range(len(weights)):\n",
    "        output[idx] = w_sum(input,weights[idx])\n",
    "    return output\n",
    "\n",
    "def neural_network(input,weights):\n",
    "\n",
    "    pred = vec_mat_mul(input,weights)\n",
    "\n",
    "    return pred\n",
    "\n"
   ]
  },
  {
   "cell_type": "markdown",
   "metadata": {},
   "source": [
    "<h3> This dataset is the current status at the beginning of each game for the first four games in a season.\n",
    "toes = current average number of toes per player\n",
    "wlrec = current games won\n",
    "nfans = fan count(in millions)"
   ]
  },
  {
   "cell_type": "code",
   "execution_count": 5,
   "metadata": {},
   "outputs": [
    {
     "data": {
      "text/plain": [
       "[0.555, 0.9800000000000001, 0.9650000000000001]"
      ]
     },
     "execution_count": 5,
     "metadata": {},
     "output_type": "execute_result"
    }
   ],
   "source": [
    "toes = [8.5,9.5,9.9,9.0]\n",
    "wlrec = [0.65,0.8,0.8,0.9]\n",
    "nfans = [1.2,1.3,0.5,1.0]\n",
    "\n",
    "input = [toes[0],wlrec[0],nfans[0]]\n",
    "\n",
    "neural_network(input,weights)"
   ]
  },
  {
   "cell_type": "markdown",
   "metadata": {},
   "source": [
    "<h2> Predictions on Predictions </h2>"
   ]
  },
  {
   "cell_type": "code",
   "execution_count": null,
   "metadata": {},
   "outputs": [],
   "source": [
    "ih_wgt = [[0.1,0.2,-0.1],\n",
    "          [-0.1,0.1,0.9],\n",
    "          [0.1,0.4,0.1]]\n",
    "ho_wgt = [[0.3,1.1,-0.3],\n",
    "          [0.1,0.2,0.0],\n",
    "          [0.0,1.3,0.1]]\n",
    "\n",
    "weights = [ih_wgt,ho_wgt]\n"
   ]
  }
 ],
 "metadata": {
  "interpreter": {
   "hash": "3d76cc264429eb451b32309f22178199b59fe04fa61b6b5db32c604327513a83"
  },
  "kernelspec": {
   "display_name": "Python 3.9.12 ('pytorch')",
   "language": "python",
   "name": "python3"
  },
  "language_info": {
   "codemirror_mode": {
    "name": "ipython",
    "version": 3
   },
   "file_extension": ".py",
   "mimetype": "text/x-python",
   "name": "python",
   "nbconvert_exporter": "python",
   "pygments_lexer": "ipython3",
   "version": "3.9.12"
  },
  "orig_nbformat": 4
 },
 "nbformat": 4,
 "nbformat_minor": 2
}
